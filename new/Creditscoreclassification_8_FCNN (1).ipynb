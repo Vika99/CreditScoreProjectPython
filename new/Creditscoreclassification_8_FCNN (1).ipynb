{
 "cells": [
  {
   "cell_type": "code",
   "execution_count": 55,
   "id": "e0061676",
   "metadata": {},
   "outputs": [],
   "source": [
    "import pandas as pd\n",
    "import numpy as np\n",
    "import pipes_FCNN as pp_\n",
    "import pickle\n",
    "\n",
    "df_ = pd.read_csv('NewDataFrame.csv')\n",
    "\n",
    "\n",
    "\n",
    "df_ = pp_.myPipe.transform(df_)\n",
    "\n",
    "\n",
    "#X = X - X.mean()\n",
    "#X = X/X.std()\n"
   ]
  },
  {
   "cell_type": "code",
   "execution_count": 56,
   "id": "55f77985",
   "metadata": {},
   "outputs": [
    {
     "data": {
      "text/plain": [
       "Index(['Month', 'Age', 'Occupation', 'AnnualIncome', 'MonthlyInhandSalary',\n",
       "       'NumBankAccounts', 'NumCreditCard', 'InterestRate', 'NumofLoan',\n",
       "       'Delayfromduedate', 'NumofDelayedPayment', 'NumCreditInquiries',\n",
       "       'CreditMix', 'OutstandingDebt', 'CreditUtilizationRatio',\n",
       "       'PaymentofMinAmount', 'TotalEMIpermonth', 'PaymentBehaviour',\n",
       "       'MonthlyBalance', 'CreditScore', 'CreditHistoryYears'],\n",
       "      dtype='object')"
      ]
     },
     "execution_count": 56,
     "metadata": {},
     "output_type": "execute_result"
    }
   ],
   "source": [
    "df_.columns"
   ]
  },
  {
   "cell_type": "code",
   "execution_count": 57,
   "id": "8b666d10",
   "metadata": {},
   "outputs": [
    {
     "data": {
      "text/html": [
       "<div>\n",
       "<style scoped>\n",
       "    .dataframe tbody tr th:only-of-type {\n",
       "        vertical-align: middle;\n",
       "    }\n",
       "\n",
       "    .dataframe tbody tr th {\n",
       "        vertical-align: top;\n",
       "    }\n",
       "\n",
       "    .dataframe thead th {\n",
       "        text-align: right;\n",
       "    }\n",
       "</style>\n",
       "<table border=\"1\" class=\"dataframe\">\n",
       "  <thead>\n",
       "    <tr style=\"text-align: right;\">\n",
       "      <th></th>\n",
       "      <th>Month</th>\n",
       "      <th>Age</th>\n",
       "      <th>Occupation</th>\n",
       "      <th>AnnualIncome</th>\n",
       "      <th>MonthlyInhandSalary</th>\n",
       "      <th>NumBankAccounts</th>\n",
       "      <th>NumCreditCard</th>\n",
       "      <th>InterestRate</th>\n",
       "      <th>NumofLoan</th>\n",
       "      <th>Delayfromduedate</th>\n",
       "      <th>...</th>\n",
       "      <th>NumCreditInquiries</th>\n",
       "      <th>CreditMix</th>\n",
       "      <th>OutstandingDebt</th>\n",
       "      <th>CreditUtilizationRatio</th>\n",
       "      <th>PaymentofMinAmount</th>\n",
       "      <th>TotalEMIpermonth</th>\n",
       "      <th>PaymentBehaviour</th>\n",
       "      <th>MonthlyBalance</th>\n",
       "      <th>CreditScore</th>\n",
       "      <th>CreditHistoryYears</th>\n",
       "    </tr>\n",
       "  </thead>\n",
       "  <tbody>\n",
       "    <tr>\n",
       "      <th>0</th>\n",
       "      <td>0.0</td>\n",
       "      <td>23.000000</td>\n",
       "      <td>Scientist</td>\n",
       "      <td>19114.12</td>\n",
       "      <td>1824.843333</td>\n",
       "      <td>3</td>\n",
       "      <td>4</td>\n",
       "      <td>3</td>\n",
       "      <td>4.0</td>\n",
       "      <td>3</td>\n",
       "      <td>...</td>\n",
       "      <td>4.0</td>\n",
       "      <td>3</td>\n",
       "      <td>809.98</td>\n",
       "      <td>26.822620</td>\n",
       "      <td>1</td>\n",
       "      <td>49.574949</td>\n",
       "      <td>HighspentSmallvaluepayments</td>\n",
       "      <td>312.494089</td>\n",
       "      <td>1</td>\n",
       "      <td>22.000000</td>\n",
       "    </tr>\n",
       "    <tr>\n",
       "      <th>1</th>\n",
       "      <td>1.0</td>\n",
       "      <td>23.000000</td>\n",
       "      <td>Scientist</td>\n",
       "      <td>19114.12</td>\n",
       "      <td>4194.170850</td>\n",
       "      <td>3</td>\n",
       "      <td>4</td>\n",
       "      <td>3</td>\n",
       "      <td>4.0</td>\n",
       "      <td>-1</td>\n",
       "      <td>...</td>\n",
       "      <td>4.0</td>\n",
       "      <td>1</td>\n",
       "      <td>809.98</td>\n",
       "      <td>31.944960</td>\n",
       "      <td>1</td>\n",
       "      <td>49.574949</td>\n",
       "      <td>LowspentLargevaluepayments</td>\n",
       "      <td>284.629163</td>\n",
       "      <td>1</td>\n",
       "      <td>17.966516</td>\n",
       "    </tr>\n",
       "    <tr>\n",
       "      <th>2</th>\n",
       "      <td>2.0</td>\n",
       "      <td>33.307829</td>\n",
       "      <td>Scientist</td>\n",
       "      <td>19114.12</td>\n",
       "      <td>4194.170850</td>\n",
       "      <td>3</td>\n",
       "      <td>4</td>\n",
       "      <td>3</td>\n",
       "      <td>4.0</td>\n",
       "      <td>3</td>\n",
       "      <td>...</td>\n",
       "      <td>4.0</td>\n",
       "      <td>1</td>\n",
       "      <td>809.98</td>\n",
       "      <td>28.609352</td>\n",
       "      <td>1</td>\n",
       "      <td>49.574949</td>\n",
       "      <td>LowspentMediumvaluepayments</td>\n",
       "      <td>331.209863</td>\n",
       "      <td>1</td>\n",
       "      <td>22.000000</td>\n",
       "    </tr>\n",
       "    <tr>\n",
       "      <th>3</th>\n",
       "      <td>3.0</td>\n",
       "      <td>23.000000</td>\n",
       "      <td>Scientist</td>\n",
       "      <td>19114.12</td>\n",
       "      <td>4194.170850</td>\n",
       "      <td>3</td>\n",
       "      <td>4</td>\n",
       "      <td>3</td>\n",
       "      <td>4.0</td>\n",
       "      <td>5</td>\n",
       "      <td>...</td>\n",
       "      <td>4.0</td>\n",
       "      <td>1</td>\n",
       "      <td>809.98</td>\n",
       "      <td>31.377862</td>\n",
       "      <td>1</td>\n",
       "      <td>49.574949</td>\n",
       "      <td>LowspentSmallvaluepayments</td>\n",
       "      <td>223.451310</td>\n",
       "      <td>1</td>\n",
       "      <td>22.000000</td>\n",
       "    </tr>\n",
       "    <tr>\n",
       "      <th>4</th>\n",
       "      <td>4.0</td>\n",
       "      <td>23.000000</td>\n",
       "      <td>Scientist</td>\n",
       "      <td>19114.12</td>\n",
       "      <td>1824.843333</td>\n",
       "      <td>3</td>\n",
       "      <td>4</td>\n",
       "      <td>3</td>\n",
       "      <td>4.0</td>\n",
       "      <td>6</td>\n",
       "      <td>...</td>\n",
       "      <td>4.0</td>\n",
       "      <td>1</td>\n",
       "      <td>809.98</td>\n",
       "      <td>24.797347</td>\n",
       "      <td>1</td>\n",
       "      <td>49.574949</td>\n",
       "      <td>HighspentMediumvaluepayments</td>\n",
       "      <td>341.489231</td>\n",
       "      <td>1</td>\n",
       "      <td>22.000000</td>\n",
       "    </tr>\n",
       "  </tbody>\n",
       "</table>\n",
       "<p>5 rows × 21 columns</p>\n",
       "</div>"
      ],
      "text/plain": [
       "   Month        Age Occupation  AnnualIncome  MonthlyInhandSalary  \\\n",
       "0    0.0  23.000000  Scientist      19114.12          1824.843333   \n",
       "1    1.0  23.000000  Scientist      19114.12          4194.170850   \n",
       "2    2.0  33.307829  Scientist      19114.12          4194.170850   \n",
       "3    3.0  23.000000  Scientist      19114.12          4194.170850   \n",
       "4    4.0  23.000000  Scientist      19114.12          1824.843333   \n",
       "\n",
       "   NumBankAccounts  NumCreditCard  InterestRate  NumofLoan  Delayfromduedate  \\\n",
       "0                3              4             3        4.0                 3   \n",
       "1                3              4             3        4.0                -1   \n",
       "2                3              4             3        4.0                 3   \n",
       "3                3              4             3        4.0                 5   \n",
       "4                3              4             3        4.0                 6   \n",
       "\n",
       "   ...  NumCreditInquiries  CreditMix  OutstandingDebt  \\\n",
       "0  ...                 4.0          3           809.98   \n",
       "1  ...                 4.0          1           809.98   \n",
       "2  ...                 4.0          1           809.98   \n",
       "3  ...                 4.0          1           809.98   \n",
       "4  ...                 4.0          1           809.98   \n",
       "\n",
       "   CreditUtilizationRatio  PaymentofMinAmount  TotalEMIpermonth  \\\n",
       "0               26.822620                   1         49.574949   \n",
       "1               31.944960                   1         49.574949   \n",
       "2               28.609352                   1         49.574949   \n",
       "3               31.377862                   1         49.574949   \n",
       "4               24.797347                   1         49.574949   \n",
       "\n",
       "               PaymentBehaviour MonthlyBalance  CreditScore  \\\n",
       "0   HighspentSmallvaluepayments     312.494089            1   \n",
       "1    LowspentLargevaluepayments     284.629163            1   \n",
       "2   LowspentMediumvaluepayments     331.209863            1   \n",
       "3    LowspentSmallvaluepayments     223.451310            1   \n",
       "4  HighspentMediumvaluepayments     341.489231            1   \n",
       "\n",
       "   CreditHistoryYears  \n",
       "0           22.000000  \n",
       "1           17.966516  \n",
       "2           22.000000  \n",
       "3           22.000000  \n",
       "4           22.000000  \n",
       "\n",
       "[5 rows x 21 columns]"
      ]
     },
     "execution_count": 57,
     "metadata": {},
     "output_type": "execute_result"
    }
   ],
   "source": [
    "df_.head()"
   ]
  },
  {
   "cell_type": "code",
   "execution_count": 58,
   "id": "95be29f3",
   "metadata": {},
   "outputs": [],
   "source": [
    "Y = df_['CreditScore']"
   ]
  },
  {
   "cell_type": "code",
   "execution_count": 59,
   "id": "34b25d2e",
   "metadata": {},
   "outputs": [],
   "source": [
    "from sklearn.preprocessing import OneHotEncoder\n",
    "oh = OneHotEncoder()\n",
    "h_cat_en, h_categories = df_['Occupation'].factorize()\n",
    "coded = oh.fit_transform(h_cat_en.reshape(-1,1))\n",
    "proxy = pd.DataFrame(coded.toarray(), index = df_.index, columns = ['1','2','3','4','5','6','7','8','9','10','11','12','13','14',\n",
    "                                                                          '15','16'])\n",
    "df_ = pd.concat([df_, proxy], axis = 1)    \n",
    "\n",
    "h_cats1 = {}\n",
    "for i in range(len(h_categories)):\n",
    "    h_cats1[h_categories[i]] = i\n",
    "\n",
    "\n",
    "with open('oneHotEncoder1.pkl', 'wb') as f:\n",
    "    pickle.dump(oh,f)\n",
    "\n",
    "with open('h_cats1.pkl', 'wb') as f:\n",
    "    pickle.dump(h_cats1,f)\n",
    "\n",
    "\n",
    "oh2 = OneHotEncoder()\n",
    "h_cat_en2, h_categories2 = df_['PaymentBehaviour'].factorize()\n",
    "coded2 = oh2.fit_transform(h_cat_en2.reshape(-1,1))\n",
    "proxy2 = pd.DataFrame(coded2.toarray(), index = df_.index, columns = ['17','18','19','20','21','22','23'])\n",
    "df_ = pd.concat([df_, proxy2], axis = 1)\n",
    "df_ = df_.drop(['PaymentBehaviour','CreditScore','Occupation'], axis = 1)\n",
    "\n",
    "h_cats2 = {}\n",
    "for i in range(len(h_categories2)):\n",
    "    h_cats2[h_categories2[i]] = i\n",
    "\n",
    "\n",
    "with open('h_cats2.pkl', 'wb') as f:\n",
    "    pickle.dump(h_cats2,f)\n",
    " \n",
    "    \n",
    "\n",
    "with open('oneHotEncoder2.pkl', 'wb') as f:\n",
    "    pickle.dump(oh2,f)"
   ]
  },
  {
   "cell_type": "code",
   "execution_count": 60,
   "id": "51ce7a77",
   "metadata": {},
   "outputs": [
    {
     "data": {
      "text/plain": [
       "Index(['HighspentSmallvaluepayments', 'LowspentLargevaluepayments',\n",
       "       'LowspentMediumvaluepayments', 'LowspentSmallvaluepayments',\n",
       "       'HighspentMediumvaluepayments', 'NoPaymentBehaviour',\n",
       "       'HighspentLargevaluepayments'],\n",
       "      dtype='object')"
      ]
     },
     "execution_count": 60,
     "metadata": {},
     "output_type": "execute_result"
    }
   ],
   "source": [
    "h_categories2"
   ]
  },
  {
   "cell_type": "code",
   "execution_count": 61,
   "id": "810705b8",
   "metadata": {},
   "outputs": [
    {
     "data": {
      "text/plain": [
       "(100000,)"
      ]
     },
     "execution_count": 61,
     "metadata": {},
     "output_type": "execute_result"
    }
   ],
   "source": [
    "h_cat_en.shape"
   ]
  },
  {
   "cell_type": "code",
   "execution_count": 62,
   "id": "4360db25",
   "metadata": {},
   "outputs": [
    {
     "data": {
      "text/plain": [
       "array([[1., 0., 0., 0., 0., 0., 0., 0., 0., 0., 0., 0., 0., 0., 0., 0.]])"
      ]
     },
     "execution_count": 62,
     "metadata": {},
     "output_type": "execute_result"
    }
   ],
   "source": [
    "oh.transform([[0]]).toarray()"
   ]
  },
  {
   "cell_type": "code",
   "execution_count": 63,
   "id": "f470e526",
   "metadata": {},
   "outputs": [],
   "source": [
    "h_cats1 = {}\n",
    "for i in range(len(h_categories)):\n",
    "    h_cats1[h_categories[i]] = i"
   ]
  },
  {
   "cell_type": "code",
   "execution_count": 64,
   "id": "ce9f9067",
   "metadata": {},
   "outputs": [
    {
     "data": {
      "text/plain": [
       "7"
      ]
     },
     "execution_count": 64,
     "metadata": {},
     "output_type": "execute_result"
    }
   ],
   "source": [
    "h_cats1['MediaManager']"
   ]
  },
  {
   "cell_type": "code",
   "execution_count": 65,
   "id": "9ecc2d35",
   "metadata": {},
   "outputs": [
    {
     "data": {
      "text/plain": [
       "array([[0., 0., 0., 0., 0., 0., 0., 1., 0., 0., 0., 0., 0., 0., 0., 0.]])"
      ]
     },
     "execution_count": 65,
     "metadata": {},
     "output_type": "execute_result"
    }
   ],
   "source": [
    "oh.transform([[7]]).toarray()"
   ]
  },
  {
   "cell_type": "code",
   "execution_count": 84,
   "id": "ccb0ad71",
   "metadata": {},
   "outputs": [
    {
     "data": {
      "text/plain": [
       "int"
      ]
     },
     "execution_count": 84,
     "metadata": {},
     "output_type": "execute_result"
    }
   ],
   "source": [
    "i=int('1')\n",
    "type(i)"
   ]
  },
  {
   "cell_type": "code",
   "execution_count": null,
   "id": "986e818d",
   "metadata": {},
   "outputs": [],
   "source": []
  },
  {
   "cell_type": "code",
   "execution_count": 66,
   "id": "366a1a3b",
   "metadata": {},
   "outputs": [],
   "source": [
    "h_cats = {}\n",
    "for i in range(len(h_categories)):\n",
    "    h_cats[h_categories[i]] = i\n",
    "    "
   ]
  },
  {
   "cell_type": "code",
   "execution_count": 67,
   "id": "c55911c3",
   "metadata": {},
   "outputs": [
    {
     "data": {
      "text/plain": [
       "[0]"
      ]
     },
     "execution_count": 67,
     "metadata": {},
     "output_type": "execute_result"
    }
   ],
   "source": [
    "[h_cats['Scientist']]"
   ]
  },
  {
   "cell_type": "code",
   "execution_count": 68,
   "id": "477c8580",
   "metadata": {},
   "outputs": [
    {
     "data": {
      "text/plain": [
       "array([[1., 0., 0., 0., 0., 0., 0., 0., 0., 0., 0., 0., 0., 0., 0., 0.]])"
      ]
     },
     "execution_count": 68,
     "metadata": {},
     "output_type": "execute_result"
    }
   ],
   "source": [
    "occ_encoded = oh.transform([[h_cats1['Scientist']]]).toarray()\n",
    "occ_encoded"
   ]
  },
  {
   "cell_type": "code",
   "execution_count": 69,
   "id": "e803b780",
   "metadata": {},
   "outputs": [
    {
     "ename": "NameError",
     "evalue": "name 'v' is not defined",
     "output_type": "error",
     "traceback": [
      "\u001b[0;31m---------------------------------------------------------------------------\u001b[0m",
      "\u001b[0;31mNameError\u001b[0m                                 Traceback (most recent call last)",
      "Input \u001b[0;32mIn [69]\u001b[0m, in \u001b[0;36m<cell line: 1>\u001b[0;34m()\u001b[0m\n\u001b[0;32m----> 1\u001b[0m v \u001b[38;5;241m=\u001b[39m np\u001b[38;5;241m.\u001b[39mconcatenate([\u001b[43mv\u001b[49m,occ_encoded[\u001b[38;5;241m0\u001b[39m]])\n",
      "\u001b[0;31mNameError\u001b[0m: name 'v' is not defined"
     ]
    }
   ],
   "source": [
    "v = np.concatenate([v,occ_encoded[0]])"
   ]
  },
  {
   "cell_type": "code",
   "execution_count": 70,
   "id": "29e1ed6e",
   "metadata": {},
   "outputs": [],
   "source": [
    "v = [1,2,3,4,5] \n",
    "v = np.array(v)"
   ]
  },
  {
   "cell_type": "code",
   "execution_count": 71,
   "id": "777d0583",
   "metadata": {},
   "outputs": [
    {
     "data": {
      "text/plain": [
       "array([1, 2, 3, 4, 5])"
      ]
     },
     "execution_count": 71,
     "metadata": {},
     "output_type": "execute_result"
    }
   ],
   "source": [
    "v"
   ]
  },
  {
   "cell_type": "code",
   "execution_count": 72,
   "id": "2b584e2f",
   "metadata": {},
   "outputs": [
    {
     "data": {
      "text/html": [
       "<div>\n",
       "<style scoped>\n",
       "    .dataframe tbody tr th:only-of-type {\n",
       "        vertical-align: middle;\n",
       "    }\n",
       "\n",
       "    .dataframe tbody tr th {\n",
       "        vertical-align: top;\n",
       "    }\n",
       "\n",
       "    .dataframe thead th {\n",
       "        text-align: right;\n",
       "    }\n",
       "</style>\n",
       "<table border=\"1\" class=\"dataframe\">\n",
       "  <thead>\n",
       "    <tr style=\"text-align: right;\">\n",
       "      <th></th>\n",
       "      <th>Month</th>\n",
       "      <th>Age</th>\n",
       "      <th>AnnualIncome</th>\n",
       "      <th>MonthlyInhandSalary</th>\n",
       "      <th>NumBankAccounts</th>\n",
       "      <th>NumCreditCard</th>\n",
       "      <th>InterestRate</th>\n",
       "      <th>NumofLoan</th>\n",
       "      <th>Delayfromduedate</th>\n",
       "      <th>NumofDelayedPayment</th>\n",
       "      <th>...</th>\n",
       "      <th>14</th>\n",
       "      <th>15</th>\n",
       "      <th>16</th>\n",
       "      <th>17</th>\n",
       "      <th>18</th>\n",
       "      <th>19</th>\n",
       "      <th>20</th>\n",
       "      <th>21</th>\n",
       "      <th>22</th>\n",
       "      <th>23</th>\n",
       "    </tr>\n",
       "  </thead>\n",
       "  <tbody>\n",
       "    <tr>\n",
       "      <th>0</th>\n",
       "      <td>0.0</td>\n",
       "      <td>23.000000</td>\n",
       "      <td>19114.12</td>\n",
       "      <td>1824.843333</td>\n",
       "      <td>3</td>\n",
       "      <td>4</td>\n",
       "      <td>3</td>\n",
       "      <td>4.0</td>\n",
       "      <td>3</td>\n",
       "      <td>7.000000</td>\n",
       "      <td>...</td>\n",
       "      <td>0.0</td>\n",
       "      <td>0.0</td>\n",
       "      <td>0.0</td>\n",
       "      <td>1.0</td>\n",
       "      <td>0.0</td>\n",
       "      <td>0.0</td>\n",
       "      <td>0.0</td>\n",
       "      <td>0.0</td>\n",
       "      <td>0.0</td>\n",
       "      <td>0.0</td>\n",
       "    </tr>\n",
       "    <tr>\n",
       "      <th>1</th>\n",
       "      <td>1.0</td>\n",
       "      <td>23.000000</td>\n",
       "      <td>19114.12</td>\n",
       "      <td>4194.170850</td>\n",
       "      <td>3</td>\n",
       "      <td>4</td>\n",
       "      <td>3</td>\n",
       "      <td>4.0</td>\n",
       "      <td>-1</td>\n",
       "      <td>13.220499</td>\n",
       "      <td>...</td>\n",
       "      <td>0.0</td>\n",
       "      <td>0.0</td>\n",
       "      <td>0.0</td>\n",
       "      <td>0.0</td>\n",
       "      <td>1.0</td>\n",
       "      <td>0.0</td>\n",
       "      <td>0.0</td>\n",
       "      <td>0.0</td>\n",
       "      <td>0.0</td>\n",
       "      <td>0.0</td>\n",
       "    </tr>\n",
       "    <tr>\n",
       "      <th>2</th>\n",
       "      <td>2.0</td>\n",
       "      <td>33.307829</td>\n",
       "      <td>19114.12</td>\n",
       "      <td>4194.170850</td>\n",
       "      <td>3</td>\n",
       "      <td>4</td>\n",
       "      <td>3</td>\n",
       "      <td>4.0</td>\n",
       "      <td>3</td>\n",
       "      <td>7.000000</td>\n",
       "      <td>...</td>\n",
       "      <td>0.0</td>\n",
       "      <td>0.0</td>\n",
       "      <td>0.0</td>\n",
       "      <td>0.0</td>\n",
       "      <td>0.0</td>\n",
       "      <td>1.0</td>\n",
       "      <td>0.0</td>\n",
       "      <td>0.0</td>\n",
       "      <td>0.0</td>\n",
       "      <td>0.0</td>\n",
       "    </tr>\n",
       "    <tr>\n",
       "      <th>3</th>\n",
       "      <td>3.0</td>\n",
       "      <td>23.000000</td>\n",
       "      <td>19114.12</td>\n",
       "      <td>4194.170850</td>\n",
       "      <td>3</td>\n",
       "      <td>4</td>\n",
       "      <td>3</td>\n",
       "      <td>4.0</td>\n",
       "      <td>5</td>\n",
       "      <td>4.000000</td>\n",
       "      <td>...</td>\n",
       "      <td>0.0</td>\n",
       "      <td>0.0</td>\n",
       "      <td>0.0</td>\n",
       "      <td>0.0</td>\n",
       "      <td>0.0</td>\n",
       "      <td>0.0</td>\n",
       "      <td>1.0</td>\n",
       "      <td>0.0</td>\n",
       "      <td>0.0</td>\n",
       "      <td>0.0</td>\n",
       "    </tr>\n",
       "    <tr>\n",
       "      <th>4</th>\n",
       "      <td>4.0</td>\n",
       "      <td>23.000000</td>\n",
       "      <td>19114.12</td>\n",
       "      <td>1824.843333</td>\n",
       "      <td>3</td>\n",
       "      <td>4</td>\n",
       "      <td>3</td>\n",
       "      <td>4.0</td>\n",
       "      <td>6</td>\n",
       "      <td>13.220499</td>\n",
       "      <td>...</td>\n",
       "      <td>0.0</td>\n",
       "      <td>0.0</td>\n",
       "      <td>0.0</td>\n",
       "      <td>0.0</td>\n",
       "      <td>0.0</td>\n",
       "      <td>0.0</td>\n",
       "      <td>0.0</td>\n",
       "      <td>1.0</td>\n",
       "      <td>0.0</td>\n",
       "      <td>0.0</td>\n",
       "    </tr>\n",
       "  </tbody>\n",
       "</table>\n",
       "<p>5 rows × 41 columns</p>\n",
       "</div>"
      ],
      "text/plain": [
       "   Month        Age  AnnualIncome  MonthlyInhandSalary  NumBankAccounts  \\\n",
       "0    0.0  23.000000      19114.12          1824.843333                3   \n",
       "1    1.0  23.000000      19114.12          4194.170850                3   \n",
       "2    2.0  33.307829      19114.12          4194.170850                3   \n",
       "3    3.0  23.000000      19114.12          4194.170850                3   \n",
       "4    4.0  23.000000      19114.12          1824.843333                3   \n",
       "\n",
       "   NumCreditCard  InterestRate  NumofLoan  Delayfromduedate  \\\n",
       "0              4             3        4.0                 3   \n",
       "1              4             3        4.0                -1   \n",
       "2              4             3        4.0                 3   \n",
       "3              4             3        4.0                 5   \n",
       "4              4             3        4.0                 6   \n",
       "\n",
       "   NumofDelayedPayment  ...   14   15   16   17   18   19   20   21   22   23  \n",
       "0             7.000000  ...  0.0  0.0  0.0  1.0  0.0  0.0  0.0  0.0  0.0  0.0  \n",
       "1            13.220499  ...  0.0  0.0  0.0  0.0  1.0  0.0  0.0  0.0  0.0  0.0  \n",
       "2             7.000000  ...  0.0  0.0  0.0  0.0  0.0  1.0  0.0  0.0  0.0  0.0  \n",
       "3             4.000000  ...  0.0  0.0  0.0  0.0  0.0  0.0  1.0  0.0  0.0  0.0  \n",
       "4            13.220499  ...  0.0  0.0  0.0  0.0  0.0  0.0  0.0  1.0  0.0  0.0  \n",
       "\n",
       "[5 rows x 41 columns]"
      ]
     },
     "execution_count": 72,
     "metadata": {},
     "output_type": "execute_result"
    }
   ],
   "source": [
    "df_.head()"
   ]
  },
  {
   "cell_type": "code",
   "execution_count": 73,
   "id": "66f63d68",
   "metadata": {},
   "outputs": [
    {
     "data": {
      "text/plain": [
       "Index(['Month', 'Age', 'AnnualIncome', 'MonthlyInhandSalary',\n",
       "       'NumBankAccounts', 'NumCreditCard', 'InterestRate', 'NumofLoan',\n",
       "       'Delayfromduedate', 'NumofDelayedPayment', 'NumCreditInquiries',\n",
       "       'CreditMix', 'OutstandingDebt', 'CreditUtilizationRatio',\n",
       "       'PaymentofMinAmount', 'TotalEMIpermonth', 'MonthlyBalance',\n",
       "       'CreditHistoryYears', '1', '2', '3', '4', '5', '6', '7', '8', '9', '10',\n",
       "       '11', '12', '13', '14', '15', '16', '17', '18', '19', '20', '21', '22',\n",
       "       '23'],\n",
       "      dtype='object')"
      ]
     },
     "execution_count": 73,
     "metadata": {},
     "output_type": "execute_result"
    }
   ],
   "source": [
    "X = df_\n",
    "X.columns"
   ]
  },
  {
   "cell_type": "code",
   "execution_count": null,
   "id": "c51f7b8e",
   "metadata": {},
   "outputs": [],
   "source": []
  },
  {
   "cell_type": "code",
   "execution_count": 74,
   "id": "e62a839d",
   "metadata": {},
   "outputs": [],
   "source": [
    "from sklearn.preprocessing import StandardScaler\n",
    "import pickle\n",
    "mms = StandardScaler()\n",
    "X = mms.fit_transform(X)\n",
    "\n",
    "\n",
    "with open('scaler.pkl', 'wb') as f:\n",
    "    pickle.dump(mms,f)"
   ]
  },
  {
   "cell_type": "code",
   "execution_count": 75,
   "id": "62dff4d6",
   "metadata": {},
   "outputs": [
    {
     "data": {
      "text/plain": [
       "(100000, 41)"
      ]
     },
     "execution_count": 75,
     "metadata": {},
     "output_type": "execute_result"
    }
   ],
   "source": [
    "X.shape"
   ]
  },
  {
   "cell_type": "markdown",
   "id": "ff425b26",
   "metadata": {},
   "source": [
    "# Создание проверочного набора (Create a validation set)"
   ]
  },
  {
   "cell_type": "code",
   "execution_count": 76,
   "id": "1c5c6668",
   "metadata": {},
   "outputs": [],
   "source": [
    "oh = OneHotEncoder()\n",
    "h_cat_en, h_categories = Y.factorize()\n",
    "coded = oh.fit_transform(h_cat_en.reshape(-1,1))\n",
    "Y = pd.DataFrame(coded.toarray(), index = df_.index, columns = ['1','2','3'])\n",
    "\n",
    "\n",
    "from sklearn.model_selection import train_test_split\n",
    "\n",
    "X_train, X_test, Y_train,  Y_test = train_test_split(X, Y, test_size = 0.4, random_state = 0)"
   ]
  },
  {
   "cell_type": "code",
   "execution_count": 77,
   "id": "882378fe",
   "metadata": {},
   "outputs": [
    {
     "data": {
      "text/plain": [
       "((60000, 41), (60000, 3))"
      ]
     },
     "execution_count": 77,
     "metadata": {},
     "output_type": "execute_result"
    }
   ],
   "source": [
    "X_train.shape, Y_train.shape"
   ]
  },
  {
   "cell_type": "code",
   "execution_count": 78,
   "id": "f68c8bdb",
   "metadata": {},
   "outputs": [
    {
     "data": {
      "text/plain": [
       "array([[-1.23959081e+00,  1.10105603e+00, -7.30134620e-02, ...,\n",
       "         2.16823760e+00, -2.86794495e-01, -3.98786392e-01],\n",
       "       [ 6.49309470e-01,  1.02375469e-13, -7.94054669e-02, ...,\n",
       "        -4.61204068e-01, -2.86794495e-01, -3.98786392e-01],\n",
       "       [-1.23959081e+00,  9.12715291e-01, -1.12580627e-01, ...,\n",
       "        -4.61204068e-01, -2.86794495e-01, -3.98786392e-01],\n",
       "       ...,\n",
       "       [ 1.12153454e+00, -9.70692086e-01, -9.83032033e-02, ...,\n",
       "        -4.61204068e-01, -2.86794495e-01, -3.98786392e-01],\n",
       "       [-1.23959081e+00,  2.04275972e+00, -1.08221769e-01, ...,\n",
       "        -4.61204068e-01, -2.86794495e-01, -3.98786392e-01],\n",
       "       [ 6.49309470e-01, -5.88450240e-02, -1.16574605e-01, ...,\n",
       "        -4.61204068e-01, -2.86794495e-01, -3.98786392e-01]])"
      ]
     },
     "execution_count": 78,
     "metadata": {},
     "output_type": "execute_result"
    }
   ],
   "source": [
    "X_train"
   ]
  },
  {
   "cell_type": "code",
   "execution_count": 24,
   "id": "480ce6a7",
   "metadata": {},
   "outputs": [
    {
     "data": {
      "text/plain": [
       "41"
      ]
     },
     "execution_count": 24,
     "metadata": {},
     "output_type": "execute_result"
    }
   ],
   "source": [
    "X_train.shape[1]"
   ]
  },
  {
   "cell_type": "code",
   "execution_count": 79,
   "id": "95aec428",
   "metadata": {},
   "outputs": [],
   "source": [
    "import tensorflow as tf\n",
    "from tensorflow.keras import models\n",
    "from tensorflow.keras import layers\n",
    "\n",
    "model = models.Sequential()\n",
    "\n",
    "model.add(layers.Dense(256, activation=\"relu\", input_shape = (X_train.shape[1],),)) \n",
    "#model.add(layers.Dropout(0.4))\n",
    "\n",
    "model.add(layers.Dense(256, activation=\"relu\"))\n",
    "\n",
    "model.add(layers.Dense(256, activation=\"relu\"))\n",
    "model.add(layers.Dense(128, activation=\"relu\"))\n",
    "\n",
    "\n",
    "model.add(layers.Dense(64, activation=\"relu\"))\n",
    "\n",
    "model.add(layers.Dense(3, activation=\"softmax\"))\n",
    "\n",
    "# Компиляция модели\n",
    "model.compile(optimizer=tf.keras.optimizers.Adam(1e-3),\n",
    "              loss=\"categorical_crossentropy\",\n",
    "              metrics=[\"accuracy\"])\n",
    "\n",
    "\n",
    "#'categorical_crossentropy' works on one-hot encoded target, while 'sparse_categorical_crossentropy' works on integer target.\n"
   ]
  },
  {
   "cell_type": "code",
   "execution_count": null,
   "id": "3d187975",
   "metadata": {},
   "outputs": [],
   "source": []
  },
  {
   "cell_type": "code",
   "execution_count": 80,
   "id": "27b95c7f",
   "metadata": {},
   "outputs": [
    {
     "name": "stdout",
     "output_type": "stream",
     "text": [
      "Epoch 1/50\n",
      "118/118 [==============================] - 1s 5ms/step - loss: 0.7877 - accuracy: 0.6287 - val_loss: 0.7564 - val_accuracy: 0.6428\n",
      "Epoch 2/50\n",
      "118/118 [==============================] - 1s 5ms/step - loss: 0.7275 - accuracy: 0.6600 - val_loss: 0.7349 - val_accuracy: 0.6532\n",
      "Epoch 3/50\n",
      "118/118 [==============================] - 1s 5ms/step - loss: 0.7060 - accuracy: 0.6719 - val_loss: 0.7140 - val_accuracy: 0.6673\n",
      "Epoch 4/50\n",
      "118/118 [==============================] - 1s 5ms/step - loss: 0.6916 - accuracy: 0.6797 - val_loss: 0.7100 - val_accuracy: 0.6674\n",
      "Epoch 5/50\n",
      "118/118 [==============================] - 1s 5ms/step - loss: 0.6821 - accuracy: 0.6859 - val_loss: 0.7103 - val_accuracy: 0.6692\n",
      "Epoch 6/50\n",
      "118/118 [==============================] - 1s 5ms/step - loss: 0.6745 - accuracy: 0.6910 - val_loss: 0.7134 - val_accuracy: 0.6670\n",
      "Epoch 7/50\n",
      "118/118 [==============================] - 1s 5ms/step - loss: 0.6656 - accuracy: 0.6950 - val_loss: 0.7160 - val_accuracy: 0.6700\n",
      "Epoch 8/50\n",
      "118/118 [==============================] - 1s 5ms/step - loss: 0.6532 - accuracy: 0.7027 - val_loss: 0.7140 - val_accuracy: 0.6703\n",
      "Epoch 9/50\n",
      "118/118 [==============================] - 1s 5ms/step - loss: 0.6443 - accuracy: 0.7059 - val_loss: 0.7240 - val_accuracy: 0.6690\n",
      "Epoch 10/50\n",
      "118/118 [==============================] - 1s 5ms/step - loss: 0.6304 - accuracy: 0.7129 - val_loss: 0.7214 - val_accuracy: 0.6695\n",
      "Epoch 11/50\n",
      "118/118 [==============================] - 1s 5ms/step - loss: 0.6189 - accuracy: 0.7194 - val_loss: 0.7332 - val_accuracy: 0.6662\n",
      "Epoch 12/50\n",
      "118/118 [==============================] - 1s 5ms/step - loss: 0.6045 - accuracy: 0.7250 - val_loss: 0.7472 - val_accuracy: 0.6669\n",
      "Epoch 13/50\n",
      "118/118 [==============================] - 1s 5ms/step - loss: 0.5885 - accuracy: 0.7341 - val_loss: 0.7489 - val_accuracy: 0.6659\n",
      "Epoch 14/50\n",
      "118/118 [==============================] - 1s 5ms/step - loss: 0.5696 - accuracy: 0.7459 - val_loss: 0.7564 - val_accuracy: 0.6604\n",
      "Epoch 15/50\n",
      "118/118 [==============================] - 1s 5ms/step - loss: 0.5527 - accuracy: 0.7520 - val_loss: 0.7796 - val_accuracy: 0.6571\n",
      "Epoch 16/50\n",
      "118/118 [==============================] - 1s 5ms/step - loss: 0.5299 - accuracy: 0.7616 - val_loss: 0.8068 - val_accuracy: 0.6533\n",
      "Epoch 17/50\n",
      "118/118 [==============================] - 1s 5ms/step - loss: 0.5102 - accuracy: 0.7701 - val_loss: 0.8238 - val_accuracy: 0.6507\n",
      "Epoch 18/50\n",
      "118/118 [==============================] - 1s 5ms/step - loss: 0.4866 - accuracy: 0.7820 - val_loss: 0.8718 - val_accuracy: 0.6538\n",
      "Epoch 19/50\n",
      "118/118 [==============================] - 1s 5ms/step - loss: 0.4598 - accuracy: 0.7961 - val_loss: 0.8926 - val_accuracy: 0.6467\n",
      "Epoch 20/50\n",
      "118/118 [==============================] - 1s 5ms/step - loss: 0.4344 - accuracy: 0.8055 - val_loss: 0.9214 - val_accuracy: 0.6467\n",
      "Epoch 21/50\n",
      "118/118 [==============================] - 1s 5ms/step - loss: 0.4095 - accuracy: 0.8205 - val_loss: 0.9723 - val_accuracy: 0.6489\n",
      "Epoch 22/50\n",
      "118/118 [==============================] - 1s 5ms/step - loss: 0.3851 - accuracy: 0.8292 - val_loss: 1.0277 - val_accuracy: 0.6383\n",
      "Epoch 23/50\n",
      "118/118 [==============================] - 1s 5ms/step - loss: 0.3640 - accuracy: 0.8391 - val_loss: 1.0919 - val_accuracy: 0.6400\n",
      "Epoch 24/50\n",
      "118/118 [==============================] - 1s 5ms/step - loss: 0.3398 - accuracy: 0.8521 - val_loss: 1.1088 - val_accuracy: 0.6337\n",
      "Epoch 25/50\n",
      "118/118 [==============================] - 1s 5ms/step - loss: 0.3139 - accuracy: 0.8651 - val_loss: 1.1800 - val_accuracy: 0.6394\n",
      "Epoch 26/50\n",
      "118/118 [==============================] - 1s 5ms/step - loss: 0.2909 - accuracy: 0.8762 - val_loss: 1.2825 - val_accuracy: 0.6427\n",
      "Epoch 27/50\n",
      "118/118 [==============================] - 1s 5ms/step - loss: 0.2771 - accuracy: 0.8830 - val_loss: 1.3023 - val_accuracy: 0.6288\n",
      "Epoch 28/50\n",
      "118/118 [==============================] - 1s 5ms/step - loss: 0.2544 - accuracy: 0.8920 - val_loss: 1.4126 - val_accuracy: 0.6356\n",
      "Epoch 29/50\n",
      "118/118 [==============================] - 1s 5ms/step - loss: 0.2383 - accuracy: 0.9017 - val_loss: 1.4713 - val_accuracy: 0.6259\n",
      "Epoch 30/50\n",
      "118/118 [==============================] - 1s 5ms/step - loss: 0.2148 - accuracy: 0.9092 - val_loss: 1.5722 - val_accuracy: 0.6353\n",
      "Epoch 31/50\n",
      "118/118 [==============================] - 1s 5ms/step - loss: 0.2019 - accuracy: 0.9169 - val_loss: 1.6213 - val_accuracy: 0.6349\n",
      "Epoch 32/50\n",
      "118/118 [==============================] - 1s 5ms/step - loss: 0.1948 - accuracy: 0.9204 - val_loss: 1.7361 - val_accuracy: 0.6298\n",
      "Epoch 33/50\n",
      "118/118 [==============================] - 1s 5ms/step - loss: 0.1739 - accuracy: 0.9286 - val_loss: 1.8012 - val_accuracy: 0.6382\n",
      "Epoch 34/50\n",
      "118/118 [==============================] - 1s 5ms/step - loss: 0.1618 - accuracy: 0.9343 - val_loss: 1.8325 - val_accuracy: 0.6241\n",
      "Epoch 35/50\n",
      "118/118 [==============================] - 1s 5ms/step - loss: 0.1632 - accuracy: 0.9354 - val_loss: 1.9651 - val_accuracy: 0.6288\n",
      "Epoch 36/50\n",
      "118/118 [==============================] - 1s 5ms/step - loss: 0.1545 - accuracy: 0.9388 - val_loss: 1.9816 - val_accuracy: 0.6328\n",
      "Epoch 37/50\n",
      "118/118 [==============================] - 1s 4ms/step - loss: 0.1405 - accuracy: 0.9450 - val_loss: 2.0468 - val_accuracy: 0.6312\n",
      "Epoch 38/50\n",
      "118/118 [==============================] - 1s 5ms/step - loss: 0.1231 - accuracy: 0.9525 - val_loss: 2.1996 - val_accuracy: 0.6400\n",
      "Epoch 39/50\n",
      "118/118 [==============================] - 1s 5ms/step - loss: 0.1112 - accuracy: 0.9573 - val_loss: 2.2140 - val_accuracy: 0.6266\n",
      "Epoch 40/50\n",
      "118/118 [==============================] - 1s 5ms/step - loss: 0.1124 - accuracy: 0.9569 - val_loss: 2.3045 - val_accuracy: 0.6349\n",
      "Epoch 41/50\n",
      "118/118 [==============================] - 1s 5ms/step - loss: 0.1018 - accuracy: 0.9620 - val_loss: 2.3670 - val_accuracy: 0.6264\n",
      "Epoch 42/50\n",
      "118/118 [==============================] - 1s 5ms/step - loss: 0.1158 - accuracy: 0.9562 - val_loss: 2.3735 - val_accuracy: 0.6260\n",
      "Epoch 43/50\n",
      "118/118 [==============================] - 1s 4ms/step - loss: 0.1231 - accuracy: 0.9541 - val_loss: 2.3670 - val_accuracy: 0.6237\n",
      "Epoch 44/50\n",
      "118/118 [==============================] - 1s 5ms/step - loss: 0.1190 - accuracy: 0.9569 - val_loss: 2.2974 - val_accuracy: 0.6271\n",
      "Epoch 45/50\n",
      "118/118 [==============================] - 1s 5ms/step - loss: 0.0892 - accuracy: 0.9669 - val_loss: 2.4670 - val_accuracy: 0.6331\n",
      "Epoch 46/50\n",
      "118/118 [==============================] - 1s 5ms/step - loss: 0.0823 - accuracy: 0.9692 - val_loss: 2.5494 - val_accuracy: 0.6378\n",
      "Epoch 47/50\n",
      "118/118 [==============================] - 1s 5ms/step - loss: 0.0723 - accuracy: 0.9747 - val_loss: 2.6974 - val_accuracy: 0.6345\n",
      "Epoch 48/50\n",
      "118/118 [==============================] - 1s 5ms/step - loss: 0.0902 - accuracy: 0.9664 - val_loss: 2.6529 - val_accuracy: 0.6378\n",
      "Epoch 49/50\n",
      "118/118 [==============================] - 1s 5ms/step - loss: 0.0820 - accuracy: 0.9700 - val_loss: 2.6402 - val_accuracy: 0.6286\n",
      "Epoch 50/50\n",
      "118/118 [==============================] - 1s 5ms/step - loss: 0.0785 - accuracy: 0.9720 - val_loss: 2.7102 - val_accuracy: 0.6289\n"
     ]
    }
   ],
   "source": [
    "history = model.fit(X_train, Y_train, validation_data = (X_test, Y_test), \n",
    "                    epochs=50, batch_size=512)"
   ]
  },
  {
   "cell_type": "code",
   "execution_count": 82,
   "id": "c187d306",
   "metadata": {},
   "outputs": [],
   "source": [
    "model.save('creditscore.h5')"
   ]
  },
  {
   "cell_type": "code",
   "execution_count": null,
   "id": "094c12ac",
   "metadata": {},
   "outputs": [],
   "source": [
    "#loaded_model = tf.keras.models.load_model('creditscore.h5')"
   ]
  },
  {
   "cell_type": "code",
   "execution_count": null,
   "id": "b35f712d",
   "metadata": {},
   "outputs": [],
   "source": []
  },
  {
   "cell_type": "code",
   "execution_count": 46,
   "id": "64ef489c",
   "metadata": {},
   "outputs": [],
   "source": [
    "from sklearn.metrics import confusion_matrix, f1_score"
   ]
  },
  {
   "cell_type": "code",
   "execution_count": 47,
   "id": "caa8466b",
   "metadata": {},
   "outputs": [
    {
     "name": "stdout",
     "output_type": "stream",
     "text": [
      "1875/1875 [==============================] - 14s 4ms/step\n"
     ]
    }
   ],
   "source": [
    "pr = model.predict(X_test)>0.5"
   ]
  },
  {
   "cell_type": "code",
   "execution_count": 52,
   "id": "7adc2678",
   "metadata": {},
   "outputs": [
    {
     "ename": "ValueError",
     "evalue": "Classification metrics can't handle a mix of multiclass and multilabel-indicator targets",
     "output_type": "error",
     "traceback": [
      "\u001b[1;31m---------------------------------------------------------------------------\u001b[0m",
      "\u001b[1;31mValueError\u001b[0m                                Traceback (most recent call last)",
      "\u001b[1;32m~\\AppData\\Local\\Temp/ipykernel_5776/4051841812.py\u001b[0m in \u001b[0;36m<module>\u001b[1;34m\u001b[0m\n\u001b[1;32m----> 1\u001b[1;33m \u001b[0mf1_score\u001b[0m \u001b[1;33m(\u001b[0m\u001b[0mY_test\u001b[0m\u001b[1;33m,\u001b[0m \u001b[0mpr\u001b[0m\u001b[1;33m,\u001b[0m\u001b[0maverage\u001b[0m\u001b[1;33m=\u001b[0m\u001b[1;34m'weighted'\u001b[0m\u001b[1;33m)\u001b[0m\u001b[1;33m\u001b[0m\u001b[1;33m\u001b[0m\u001b[0m\n\u001b[0m",
      "\u001b[1;32m~\\anaconda3\\lib\\site-packages\\sklearn\\utils\\validation.py\u001b[0m in \u001b[0;36minner_f\u001b[1;34m(*args, **kwargs)\u001b[0m\n\u001b[0;32m     61\u001b[0m             \u001b[0mextra_args\u001b[0m \u001b[1;33m=\u001b[0m \u001b[0mlen\u001b[0m\u001b[1;33m(\u001b[0m\u001b[0margs\u001b[0m\u001b[1;33m)\u001b[0m \u001b[1;33m-\u001b[0m \u001b[0mlen\u001b[0m\u001b[1;33m(\u001b[0m\u001b[0mall_args\u001b[0m\u001b[1;33m)\u001b[0m\u001b[1;33m\u001b[0m\u001b[1;33m\u001b[0m\u001b[0m\n\u001b[0;32m     62\u001b[0m             \u001b[1;32mif\u001b[0m \u001b[0mextra_args\u001b[0m \u001b[1;33m<=\u001b[0m \u001b[1;36m0\u001b[0m\u001b[1;33m:\u001b[0m\u001b[1;33m\u001b[0m\u001b[1;33m\u001b[0m\u001b[0m\n\u001b[1;32m---> 63\u001b[1;33m                 \u001b[1;32mreturn\u001b[0m \u001b[0mf\u001b[0m\u001b[1;33m(\u001b[0m\u001b[1;33m*\u001b[0m\u001b[0margs\u001b[0m\u001b[1;33m,\u001b[0m \u001b[1;33m**\u001b[0m\u001b[0mkwargs\u001b[0m\u001b[1;33m)\u001b[0m\u001b[1;33m\u001b[0m\u001b[1;33m\u001b[0m\u001b[0m\n\u001b[0m\u001b[0;32m     64\u001b[0m \u001b[1;33m\u001b[0m\u001b[0m\n\u001b[0;32m     65\u001b[0m             \u001b[1;31m# extra_args > 0\u001b[0m\u001b[1;33m\u001b[0m\u001b[1;33m\u001b[0m\u001b[0m\n",
      "\u001b[1;32m~\\anaconda3\\lib\\site-packages\\sklearn\\metrics\\_classification.py\u001b[0m in \u001b[0;36mf1_score\u001b[1;34m(y_true, y_pred, labels, pos_label, average, sample_weight, zero_division)\u001b[0m\n\u001b[0;32m   1069\u001b[0m     \u001b[0mmodified\u001b[0m \u001b[1;32mwith\u001b[0m\u001b[0;31m \u001b[0m\u001b[0;31m`\u001b[0m\u001b[0;31m`\u001b[0m\u001b[0mzero_division\u001b[0m\u001b[0;31m`\u001b[0m\u001b[0;31m`\u001b[0m\u001b[1;33m.\u001b[0m\u001b[1;33m\u001b[0m\u001b[1;33m\u001b[0m\u001b[0m\n\u001b[0;32m   1070\u001b[0m     \"\"\"\n\u001b[1;32m-> 1071\u001b[1;33m     return fbeta_score(y_true, y_pred, beta=1, labels=labels,\n\u001b[0m\u001b[0;32m   1072\u001b[0m                        \u001b[0mpos_label\u001b[0m\u001b[1;33m=\u001b[0m\u001b[0mpos_label\u001b[0m\u001b[1;33m,\u001b[0m \u001b[0maverage\u001b[0m\u001b[1;33m=\u001b[0m\u001b[0maverage\u001b[0m\u001b[1;33m,\u001b[0m\u001b[1;33m\u001b[0m\u001b[1;33m\u001b[0m\u001b[0m\n\u001b[0;32m   1073\u001b[0m                        \u001b[0msample_weight\u001b[0m\u001b[1;33m=\u001b[0m\u001b[0msample_weight\u001b[0m\u001b[1;33m,\u001b[0m\u001b[1;33m\u001b[0m\u001b[1;33m\u001b[0m\u001b[0m\n",
      "\u001b[1;32m~\\anaconda3\\lib\\site-packages\\sklearn\\utils\\validation.py\u001b[0m in \u001b[0;36minner_f\u001b[1;34m(*args, **kwargs)\u001b[0m\n\u001b[0;32m     61\u001b[0m             \u001b[0mextra_args\u001b[0m \u001b[1;33m=\u001b[0m \u001b[0mlen\u001b[0m\u001b[1;33m(\u001b[0m\u001b[0margs\u001b[0m\u001b[1;33m)\u001b[0m \u001b[1;33m-\u001b[0m \u001b[0mlen\u001b[0m\u001b[1;33m(\u001b[0m\u001b[0mall_args\u001b[0m\u001b[1;33m)\u001b[0m\u001b[1;33m\u001b[0m\u001b[1;33m\u001b[0m\u001b[0m\n\u001b[0;32m     62\u001b[0m             \u001b[1;32mif\u001b[0m \u001b[0mextra_args\u001b[0m \u001b[1;33m<=\u001b[0m \u001b[1;36m0\u001b[0m\u001b[1;33m:\u001b[0m\u001b[1;33m\u001b[0m\u001b[1;33m\u001b[0m\u001b[0m\n\u001b[1;32m---> 63\u001b[1;33m                 \u001b[1;32mreturn\u001b[0m \u001b[0mf\u001b[0m\u001b[1;33m(\u001b[0m\u001b[1;33m*\u001b[0m\u001b[0margs\u001b[0m\u001b[1;33m,\u001b[0m \u001b[1;33m**\u001b[0m\u001b[0mkwargs\u001b[0m\u001b[1;33m)\u001b[0m\u001b[1;33m\u001b[0m\u001b[1;33m\u001b[0m\u001b[0m\n\u001b[0m\u001b[0;32m     64\u001b[0m \u001b[1;33m\u001b[0m\u001b[0m\n\u001b[0;32m     65\u001b[0m             \u001b[1;31m# extra_args > 0\u001b[0m\u001b[1;33m\u001b[0m\u001b[1;33m\u001b[0m\u001b[0m\n",
      "\u001b[1;32m~\\anaconda3\\lib\\site-packages\\sklearn\\metrics\\_classification.py\u001b[0m in \u001b[0;36mfbeta_score\u001b[1;34m(y_true, y_pred, beta, labels, pos_label, average, sample_weight, zero_division)\u001b[0m\n\u001b[0;32m   1193\u001b[0m     \"\"\"\n\u001b[0;32m   1194\u001b[0m \u001b[1;33m\u001b[0m\u001b[0m\n\u001b[1;32m-> 1195\u001b[1;33m     _, _, f, _ = precision_recall_fscore_support(y_true, y_pred,\n\u001b[0m\u001b[0;32m   1196\u001b[0m                                                  \u001b[0mbeta\u001b[0m\u001b[1;33m=\u001b[0m\u001b[0mbeta\u001b[0m\u001b[1;33m,\u001b[0m\u001b[1;33m\u001b[0m\u001b[1;33m\u001b[0m\u001b[0m\n\u001b[0;32m   1197\u001b[0m                                                  \u001b[0mlabels\u001b[0m\u001b[1;33m=\u001b[0m\u001b[0mlabels\u001b[0m\u001b[1;33m,\u001b[0m\u001b[1;33m\u001b[0m\u001b[1;33m\u001b[0m\u001b[0m\n",
      "\u001b[1;32m~\\anaconda3\\lib\\site-packages\\sklearn\\utils\\validation.py\u001b[0m in \u001b[0;36minner_f\u001b[1;34m(*args, **kwargs)\u001b[0m\n\u001b[0;32m     61\u001b[0m             \u001b[0mextra_args\u001b[0m \u001b[1;33m=\u001b[0m \u001b[0mlen\u001b[0m\u001b[1;33m(\u001b[0m\u001b[0margs\u001b[0m\u001b[1;33m)\u001b[0m \u001b[1;33m-\u001b[0m \u001b[0mlen\u001b[0m\u001b[1;33m(\u001b[0m\u001b[0mall_args\u001b[0m\u001b[1;33m)\u001b[0m\u001b[1;33m\u001b[0m\u001b[1;33m\u001b[0m\u001b[0m\n\u001b[0;32m     62\u001b[0m             \u001b[1;32mif\u001b[0m \u001b[0mextra_args\u001b[0m \u001b[1;33m<=\u001b[0m \u001b[1;36m0\u001b[0m\u001b[1;33m:\u001b[0m\u001b[1;33m\u001b[0m\u001b[1;33m\u001b[0m\u001b[0m\n\u001b[1;32m---> 63\u001b[1;33m                 \u001b[1;32mreturn\u001b[0m \u001b[0mf\u001b[0m\u001b[1;33m(\u001b[0m\u001b[1;33m*\u001b[0m\u001b[0margs\u001b[0m\u001b[1;33m,\u001b[0m \u001b[1;33m**\u001b[0m\u001b[0mkwargs\u001b[0m\u001b[1;33m)\u001b[0m\u001b[1;33m\u001b[0m\u001b[1;33m\u001b[0m\u001b[0m\n\u001b[0m\u001b[0;32m     64\u001b[0m \u001b[1;33m\u001b[0m\u001b[0m\n\u001b[0;32m     65\u001b[0m             \u001b[1;31m# extra_args > 0\u001b[0m\u001b[1;33m\u001b[0m\u001b[1;33m\u001b[0m\u001b[0m\n",
      "\u001b[1;32m~\\anaconda3\\lib\\site-packages\\sklearn\\metrics\\_classification.py\u001b[0m in \u001b[0;36mprecision_recall_fscore_support\u001b[1;34m(y_true, y_pred, beta, labels, pos_label, average, warn_for, sample_weight, zero_division)\u001b[0m\n\u001b[0;32m   1462\u001b[0m     \u001b[1;32mif\u001b[0m \u001b[0mbeta\u001b[0m \u001b[1;33m<\u001b[0m \u001b[1;36m0\u001b[0m\u001b[1;33m:\u001b[0m\u001b[1;33m\u001b[0m\u001b[1;33m\u001b[0m\u001b[0m\n\u001b[0;32m   1463\u001b[0m         \u001b[1;32mraise\u001b[0m \u001b[0mValueError\u001b[0m\u001b[1;33m(\u001b[0m\u001b[1;34m\"beta should be >=0 in the F-beta score\"\u001b[0m\u001b[1;33m)\u001b[0m\u001b[1;33m\u001b[0m\u001b[1;33m\u001b[0m\u001b[0m\n\u001b[1;32m-> 1464\u001b[1;33m     labels = _check_set_wise_labels(y_true, y_pred, average, labels,\n\u001b[0m\u001b[0;32m   1465\u001b[0m                                     pos_label)\n\u001b[0;32m   1466\u001b[0m \u001b[1;33m\u001b[0m\u001b[0m\n",
      "\u001b[1;32m~\\anaconda3\\lib\\site-packages\\sklearn\\metrics\\_classification.py\u001b[0m in \u001b[0;36m_check_set_wise_labels\u001b[1;34m(y_true, y_pred, average, labels, pos_label)\u001b[0m\n\u001b[0;32m   1275\u001b[0m                          str(average_options))\n\u001b[0;32m   1276\u001b[0m \u001b[1;33m\u001b[0m\u001b[0m\n\u001b[1;32m-> 1277\u001b[1;33m     \u001b[0my_type\u001b[0m\u001b[1;33m,\u001b[0m \u001b[0my_true\u001b[0m\u001b[1;33m,\u001b[0m \u001b[0my_pred\u001b[0m \u001b[1;33m=\u001b[0m \u001b[0m_check_targets\u001b[0m\u001b[1;33m(\u001b[0m\u001b[0my_true\u001b[0m\u001b[1;33m,\u001b[0m \u001b[0my_pred\u001b[0m\u001b[1;33m)\u001b[0m\u001b[1;33m\u001b[0m\u001b[1;33m\u001b[0m\u001b[0m\n\u001b[0m\u001b[0;32m   1278\u001b[0m     \u001b[1;31m# Convert to Python primitive type to avoid NumPy type / Python str\u001b[0m\u001b[1;33m\u001b[0m\u001b[1;33m\u001b[0m\u001b[0m\n\u001b[0;32m   1279\u001b[0m     \u001b[1;31m# comparison. See https://github.com/numpy/numpy/issues/6784\u001b[0m\u001b[1;33m\u001b[0m\u001b[1;33m\u001b[0m\u001b[0m\n",
      "\u001b[1;32m~\\anaconda3\\lib\\site-packages\\sklearn\\metrics\\_classification.py\u001b[0m in \u001b[0;36m_check_targets\u001b[1;34m(y_true, y_pred)\u001b[0m\n\u001b[0;32m     90\u001b[0m \u001b[1;33m\u001b[0m\u001b[0m\n\u001b[0;32m     91\u001b[0m     \u001b[1;32mif\u001b[0m \u001b[0mlen\u001b[0m\u001b[1;33m(\u001b[0m\u001b[0my_type\u001b[0m\u001b[1;33m)\u001b[0m \u001b[1;33m>\u001b[0m \u001b[1;36m1\u001b[0m\u001b[1;33m:\u001b[0m\u001b[1;33m\u001b[0m\u001b[1;33m\u001b[0m\u001b[0m\n\u001b[1;32m---> 92\u001b[1;33m         raise ValueError(\"Classification metrics can't handle a mix of {0} \"\n\u001b[0m\u001b[0;32m     93\u001b[0m                          \"and {1} targets\".format(type_true, type_pred))\n\u001b[0;32m     94\u001b[0m \u001b[1;33m\u001b[0m\u001b[0m\n",
      "\u001b[1;31mValueError\u001b[0m: Classification metrics can't handle a mix of multiclass and multilabel-indicator targets"
     ]
    }
   ],
   "source": [
    "f1_score (Y_test, pr,average='macro')"
   ]
  },
  {
   "cell_type": "code",
   "execution_count": 11,
   "id": "17c07d5f",
   "metadata": {},
   "outputs": [
    {
     "data": {
      "text/plain": [
       "array([[29764,  5664],\n",
       "       [ 6299,  8273]], dtype=int64)"
      ]
     },
     "execution_count": 11,
     "metadata": {},
     "output_type": "execute_result"
    }
   ],
   "source": [
    "confusion_matrix(Y_test, pr)"
   ]
  },
  {
   "cell_type": "code",
   "execution_count": null,
   "id": "f3ab1fde",
   "metadata": {},
   "outputs": [],
   "source": []
  },
  {
   "cell_type": "code",
   "execution_count": 31,
   "id": "2829345c",
   "metadata": {},
   "outputs": [],
   "source": [
    "with open('h_cats1.pkl' , 'rb') as f:\n",
    "    some_cats = pickle.load(f)"
   ]
  },
  {
   "cell_type": "code",
   "execution_count": 32,
   "id": "c98b6cef",
   "metadata": {},
   "outputs": [
    {
     "data": {
      "text/plain": [
       "{'Scientist': 0,\n",
       " 'NoOccupation': 1,\n",
       " 'Teacher': 2,\n",
       " 'Engineer': 3,\n",
       " 'Entrepreneur': 4,\n",
       " 'Developer': 5,\n",
       " 'Lawyer': 6,\n",
       " 'MediaManager': 7,\n",
       " 'Doctor': 8,\n",
       " 'Journalist': 9,\n",
       " 'Manager': 10,\n",
       " 'Accountant': 11,\n",
       " 'Musician': 12,\n",
       " 'Mechanic': 13,\n",
       " 'Writer': 14,\n",
       " 'Architect': 15}"
      ]
     },
     "execution_count": 32,
     "metadata": {},
     "output_type": "execute_result"
    }
   ],
   "source": [
    "some_cats"
   ]
  },
  {
   "cell_type": "code",
   "execution_count": null,
   "id": "35af6d03",
   "metadata": {},
   "outputs": [],
   "source": []
  },
  {
   "cell_type": "code",
   "execution_count": null,
   "id": "1a4d83be",
   "metadata": {},
   "outputs": [],
   "source": []
  }
 ],
 "metadata": {
  "kernelspec": {
   "display_name": "Python 3 (ipykernel)",
   "language": "python",
   "name": "python3"
  },
  "language_info": {
   "codemirror_mode": {
    "name": "ipython",
    "version": 3
   },
   "file_extension": ".py",
   "mimetype": "text/x-python",
   "name": "python",
   "nbconvert_exporter": "python",
   "pygments_lexer": "ipython3",
   "version": "3.9.12"
  }
 },
 "nbformat": 4,
 "nbformat_minor": 5
}

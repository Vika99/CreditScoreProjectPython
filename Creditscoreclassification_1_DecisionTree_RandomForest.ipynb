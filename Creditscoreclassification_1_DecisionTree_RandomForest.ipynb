{
 "cells": [
  {
   "cell_type": "raw",
   "id": "4dbeafd1",
   "metadata": {},
   "source": [
    "#In this section: applimentation of transformer(pipes_), separation the target variable, division data into test and training. Applimentation of the Decision Tree Model and Random Forest Model (ML with Teacher). ALso Possibility to use Grid search optimization algorithm which lets us select the best parameters for our optimization problem."
   ]
  },
  {
   "cell_type": "code",
   "execution_count": 18,
   "id": "7a7abf99",
   "metadata": {},
   "outputs": [],
   "source": [
    "from sklearn.pipeline import Pipeline\n",
    "import pipes_ as pp\n",
    "import pandas as pd\n",
    "from matplotlib import pyplot as plt\n",
    "import numpy as np\n",
    "from sklearn.metrics import confusion_matrix, precision_score, \\\n",
    "              recall_score, f1_score, precision_recall_curve, roc_curve, roc_auc_score, \\\n",
    "              auc, mean_squared_error\n",
    "from sklearn.metrics import confusion_matrix, precision_score, \\\n",
    "              recall_score, f1_score, precision_recall_curve, roc_curve, roc_auc_score, \\\n",
    "              auc, mean_squared_error, accuracy_score"
   ]
  },
  {
   "cell_type": "markdown",
   "id": "a395908e",
   "metadata": {},
   "source": [
    "# 1.We review the information. Preparing data for processing format"
   ]
  },
  {
   "cell_type": "code",
   "execution_count": 19,
   "id": "ac7b95cc",
   "metadata": {},
   "outputs": [],
   "source": [
    "df_ = pd.read_csv('NewDataFrame.csv')\n"
   ]
  },
  {
   "cell_type": "code",
   "execution_count": 20,
   "id": "ccbafb3d",
   "metadata": {},
   "outputs": [],
   "source": [
    "#df_.rename({\"Unnamed: 0\":\"a\"}, axis=\"columns\", inplace=True)\n",
    "#df_.drop([\"a\"], axis=1, inplace=True)"
   ]
  },
  {
   "cell_type": "code",
   "execution_count": 21,
   "id": "30181cef",
   "metadata": {},
   "outputs": [
    {
     "data": {
      "text/html": [
       "<div>\n",
       "<style scoped>\n",
       "    .dataframe tbody tr th:only-of-type {\n",
       "        vertical-align: middle;\n",
       "    }\n",
       "\n",
       "    .dataframe tbody tr th {\n",
       "        vertical-align: top;\n",
       "    }\n",
       "\n",
       "    .dataframe thead th {\n",
       "        text-align: right;\n",
       "    }\n",
       "</style>\n",
       "<table border=\"1\" class=\"dataframe\">\n",
       "  <thead>\n",
       "    <tr style=\"text-align: right;\">\n",
       "      <th></th>\n",
       "      <th>Month</th>\n",
       "      <th>Age</th>\n",
       "      <th>Occupation</th>\n",
       "      <th>AnnualIncome</th>\n",
       "      <th>MonthlyInhandSalary</th>\n",
       "      <th>NumBankAccounts</th>\n",
       "      <th>NumCreditCard</th>\n",
       "      <th>InterestRate</th>\n",
       "      <th>NumofLoan</th>\n",
       "      <th>Delayfromduedate</th>\n",
       "      <th>...</th>\n",
       "      <th>NumCreditInquiries</th>\n",
       "      <th>CreditMix</th>\n",
       "      <th>OutstandingDebt</th>\n",
       "      <th>CreditUtilizationRatio</th>\n",
       "      <th>PaymentofMinAmount</th>\n",
       "      <th>TotalEMIpermonth</th>\n",
       "      <th>PaymentBehaviour</th>\n",
       "      <th>MonthlyBalance</th>\n",
       "      <th>CreditScore</th>\n",
       "      <th>CreditHistoryYears</th>\n",
       "    </tr>\n",
       "  </thead>\n",
       "  <tbody>\n",
       "    <tr>\n",
       "      <th>0</th>\n",
       "      <td>January</td>\n",
       "      <td>23.000000</td>\n",
       "      <td>Scientist</td>\n",
       "      <td>19114.12</td>\n",
       "      <td>1824.843333</td>\n",
       "      <td>3</td>\n",
       "      <td>4</td>\n",
       "      <td>3</td>\n",
       "      <td>4.0</td>\n",
       "      <td>3</td>\n",
       "      <td>...</td>\n",
       "      <td>4.0</td>\n",
       "      <td>NoCreditMix</td>\n",
       "      <td>809.98</td>\n",
       "      <td>26.822620</td>\n",
       "      <td>No</td>\n",
       "      <td>49.574949</td>\n",
       "      <td>HighspentSmallvaluepayments</td>\n",
       "      <td>312.494089</td>\n",
       "      <td>Good</td>\n",
       "      <td>22.000000</td>\n",
       "    </tr>\n",
       "    <tr>\n",
       "      <th>1</th>\n",
       "      <td>February</td>\n",
       "      <td>23.000000</td>\n",
       "      <td>Scientist</td>\n",
       "      <td>19114.12</td>\n",
       "      <td>4194.170850</td>\n",
       "      <td>3</td>\n",
       "      <td>4</td>\n",
       "      <td>3</td>\n",
       "      <td>4.0</td>\n",
       "      <td>-1</td>\n",
       "      <td>...</td>\n",
       "      <td>4.0</td>\n",
       "      <td>Good</td>\n",
       "      <td>809.98</td>\n",
       "      <td>31.944960</td>\n",
       "      <td>No</td>\n",
       "      <td>49.574949</td>\n",
       "      <td>LowspentLargevaluepayments</td>\n",
       "      <td>284.629163</td>\n",
       "      <td>Good</td>\n",
       "      <td>17.966516</td>\n",
       "    </tr>\n",
       "    <tr>\n",
       "      <th>2</th>\n",
       "      <td>March</td>\n",
       "      <td>33.307829</td>\n",
       "      <td>Scientist</td>\n",
       "      <td>19114.12</td>\n",
       "      <td>4194.170850</td>\n",
       "      <td>3</td>\n",
       "      <td>4</td>\n",
       "      <td>3</td>\n",
       "      <td>4.0</td>\n",
       "      <td>3</td>\n",
       "      <td>...</td>\n",
       "      <td>4.0</td>\n",
       "      <td>Good</td>\n",
       "      <td>809.98</td>\n",
       "      <td>28.609352</td>\n",
       "      <td>No</td>\n",
       "      <td>49.574949</td>\n",
       "      <td>LowspentMediumvaluepayments</td>\n",
       "      <td>331.209863</td>\n",
       "      <td>Good</td>\n",
       "      <td>22.000000</td>\n",
       "    </tr>\n",
       "    <tr>\n",
       "      <th>3</th>\n",
       "      <td>April</td>\n",
       "      <td>23.000000</td>\n",
       "      <td>Scientist</td>\n",
       "      <td>19114.12</td>\n",
       "      <td>4194.170850</td>\n",
       "      <td>3</td>\n",
       "      <td>4</td>\n",
       "      <td>3</td>\n",
       "      <td>4.0</td>\n",
       "      <td>5</td>\n",
       "      <td>...</td>\n",
       "      <td>4.0</td>\n",
       "      <td>Good</td>\n",
       "      <td>809.98</td>\n",
       "      <td>31.377862</td>\n",
       "      <td>No</td>\n",
       "      <td>49.574949</td>\n",
       "      <td>LowspentSmallvaluepayments</td>\n",
       "      <td>223.451310</td>\n",
       "      <td>Good</td>\n",
       "      <td>22.000000</td>\n",
       "    </tr>\n",
       "    <tr>\n",
       "      <th>4</th>\n",
       "      <td>May</td>\n",
       "      <td>23.000000</td>\n",
       "      <td>Scientist</td>\n",
       "      <td>19114.12</td>\n",
       "      <td>1824.843333</td>\n",
       "      <td>3</td>\n",
       "      <td>4</td>\n",
       "      <td>3</td>\n",
       "      <td>4.0</td>\n",
       "      <td>6</td>\n",
       "      <td>...</td>\n",
       "      <td>4.0</td>\n",
       "      <td>Good</td>\n",
       "      <td>809.98</td>\n",
       "      <td>24.797347</td>\n",
       "      <td>No</td>\n",
       "      <td>49.574949</td>\n",
       "      <td>HighspentMediumvaluepayments</td>\n",
       "      <td>341.489231</td>\n",
       "      <td>Good</td>\n",
       "      <td>22.000000</td>\n",
       "    </tr>\n",
       "    <tr>\n",
       "      <th>...</th>\n",
       "      <td>...</td>\n",
       "      <td>...</td>\n",
       "      <td>...</td>\n",
       "      <td>...</td>\n",
       "      <td>...</td>\n",
       "      <td>...</td>\n",
       "      <td>...</td>\n",
       "      <td>...</td>\n",
       "      <td>...</td>\n",
       "      <td>...</td>\n",
       "      <td>...</td>\n",
       "      <td>...</td>\n",
       "      <td>...</td>\n",
       "      <td>...</td>\n",
       "      <td>...</td>\n",
       "      <td>...</td>\n",
       "      <td>...</td>\n",
       "      <td>...</td>\n",
       "      <td>...</td>\n",
       "      <td>...</td>\n",
       "      <td>...</td>\n",
       "    </tr>\n",
       "    <tr>\n",
       "      <th>99995</th>\n",
       "      <td>April</td>\n",
       "      <td>25.000000</td>\n",
       "      <td>Mechanic</td>\n",
       "      <td>39628.99</td>\n",
       "      <td>3359.415833</td>\n",
       "      <td>4</td>\n",
       "      <td>6</td>\n",
       "      <td>7</td>\n",
       "      <td>2.0</td>\n",
       "      <td>23</td>\n",
       "      <td>...</td>\n",
       "      <td>3.0</td>\n",
       "      <td>NoCreditMix</td>\n",
       "      <td>502.38</td>\n",
       "      <td>34.663572</td>\n",
       "      <td>No</td>\n",
       "      <td>35.104023</td>\n",
       "      <td>HighspentLargevaluepayments</td>\n",
       "      <td>479.866228</td>\n",
       "      <td>Poor</td>\n",
       "      <td>31.000000</td>\n",
       "    </tr>\n",
       "    <tr>\n",
       "      <th>99996</th>\n",
       "      <td>May</td>\n",
       "      <td>25.000000</td>\n",
       "      <td>Mechanic</td>\n",
       "      <td>39628.99</td>\n",
       "      <td>3359.415833</td>\n",
       "      <td>4</td>\n",
       "      <td>6</td>\n",
       "      <td>7</td>\n",
       "      <td>2.0</td>\n",
       "      <td>18</td>\n",
       "      <td>...</td>\n",
       "      <td>3.0</td>\n",
       "      <td>NoCreditMix</td>\n",
       "      <td>502.38</td>\n",
       "      <td>40.565631</td>\n",
       "      <td>No</td>\n",
       "      <td>35.104023</td>\n",
       "      <td>HighspentMediumvaluepayments</td>\n",
       "      <td>496.651610</td>\n",
       "      <td>Poor</td>\n",
       "      <td>31.000000</td>\n",
       "    </tr>\n",
       "    <tr>\n",
       "      <th>99997</th>\n",
       "      <td>June</td>\n",
       "      <td>25.000000</td>\n",
       "      <td>Mechanic</td>\n",
       "      <td>39628.99</td>\n",
       "      <td>3359.415833</td>\n",
       "      <td>4</td>\n",
       "      <td>6</td>\n",
       "      <td>0</td>\n",
       "      <td>2.0</td>\n",
       "      <td>27</td>\n",
       "      <td>...</td>\n",
       "      <td>3.0</td>\n",
       "      <td>Good</td>\n",
       "      <td>502.38</td>\n",
       "      <td>41.255522</td>\n",
       "      <td>No</td>\n",
       "      <td>35.104023</td>\n",
       "      <td>HighspentLargevaluepayments</td>\n",
       "      <td>516.809083</td>\n",
       "      <td>Poor</td>\n",
       "      <td>31.000000</td>\n",
       "    </tr>\n",
       "    <tr>\n",
       "      <th>99998</th>\n",
       "      <td>July</td>\n",
       "      <td>25.000000</td>\n",
       "      <td>Mechanic</td>\n",
       "      <td>39628.99</td>\n",
       "      <td>3359.415833</td>\n",
       "      <td>4</td>\n",
       "      <td>6</td>\n",
       "      <td>7</td>\n",
       "      <td>2.0</td>\n",
       "      <td>20</td>\n",
       "      <td>...</td>\n",
       "      <td>3.0</td>\n",
       "      <td>Good</td>\n",
       "      <td>502.38</td>\n",
       "      <td>33.638208</td>\n",
       "      <td>No</td>\n",
       "      <td>35.104023</td>\n",
       "      <td>LowspentLargevaluepayments</td>\n",
       "      <td>319.164979</td>\n",
       "      <td>Standard</td>\n",
       "      <td>31.000000</td>\n",
       "    </tr>\n",
       "    <tr>\n",
       "      <th>99999</th>\n",
       "      <td>August</td>\n",
       "      <td>25.000000</td>\n",
       "      <td>Mechanic</td>\n",
       "      <td>39628.99</td>\n",
       "      <td>3359.415833</td>\n",
       "      <td>4</td>\n",
       "      <td>6</td>\n",
       "      <td>7</td>\n",
       "      <td>2.0</td>\n",
       "      <td>18</td>\n",
       "      <td>...</td>\n",
       "      <td>3.0</td>\n",
       "      <td>Good</td>\n",
       "      <td>502.38</td>\n",
       "      <td>34.192463</td>\n",
       "      <td>No</td>\n",
       "      <td>35.104023</td>\n",
       "      <td>NoPaymentBehaviour</td>\n",
       "      <td>393.673696</td>\n",
       "      <td>Poor</td>\n",
       "      <td>31.000000</td>\n",
       "    </tr>\n",
       "  </tbody>\n",
       "</table>\n",
       "<p>100000 rows × 21 columns</p>\n",
       "</div>"
      ],
      "text/plain": [
       "          Month        Age Occupation  AnnualIncome  MonthlyInhandSalary  \\\n",
       "0       January  23.000000  Scientist      19114.12          1824.843333   \n",
       "1      February  23.000000  Scientist      19114.12          4194.170850   \n",
       "2         March  33.307829  Scientist      19114.12          4194.170850   \n",
       "3         April  23.000000  Scientist      19114.12          4194.170850   \n",
       "4           May  23.000000  Scientist      19114.12          1824.843333   \n",
       "...         ...        ...        ...           ...                  ...   \n",
       "99995     April  25.000000   Mechanic      39628.99          3359.415833   \n",
       "99996       May  25.000000   Mechanic      39628.99          3359.415833   \n",
       "99997      June  25.000000   Mechanic      39628.99          3359.415833   \n",
       "99998      July  25.000000   Mechanic      39628.99          3359.415833   \n",
       "99999    August  25.000000   Mechanic      39628.99          3359.415833   \n",
       "\n",
       "       NumBankAccounts  NumCreditCard  InterestRate  NumofLoan  \\\n",
       "0                    3              4             3        4.0   \n",
       "1                    3              4             3        4.0   \n",
       "2                    3              4             3        4.0   \n",
       "3                    3              4             3        4.0   \n",
       "4                    3              4             3        4.0   \n",
       "...                ...            ...           ...        ...   \n",
       "99995                4              6             7        2.0   \n",
       "99996                4              6             7        2.0   \n",
       "99997                4              6             0        2.0   \n",
       "99998                4              6             7        2.0   \n",
       "99999                4              6             7        2.0   \n",
       "\n",
       "       Delayfromduedate  ...  NumCreditInquiries    CreditMix OutstandingDebt  \\\n",
       "0                     3  ...                 4.0  NoCreditMix          809.98   \n",
       "1                    -1  ...                 4.0         Good          809.98   \n",
       "2                     3  ...                 4.0         Good          809.98   \n",
       "3                     5  ...                 4.0         Good          809.98   \n",
       "4                     6  ...                 4.0         Good          809.98   \n",
       "...                 ...  ...                 ...          ...             ...   \n",
       "99995                23  ...                 3.0  NoCreditMix          502.38   \n",
       "99996                18  ...                 3.0  NoCreditMix          502.38   \n",
       "99997                27  ...                 3.0         Good          502.38   \n",
       "99998                20  ...                 3.0         Good          502.38   \n",
       "99999                18  ...                 3.0         Good          502.38   \n",
       "\n",
       "       CreditUtilizationRatio  PaymentofMinAmount TotalEMIpermonth  \\\n",
       "0                   26.822620                  No        49.574949   \n",
       "1                   31.944960                  No        49.574949   \n",
       "2                   28.609352                  No        49.574949   \n",
       "3                   31.377862                  No        49.574949   \n",
       "4                   24.797347                  No        49.574949   \n",
       "...                       ...                 ...              ...   \n",
       "99995               34.663572                  No        35.104023   \n",
       "99996               40.565631                  No        35.104023   \n",
       "99997               41.255522                  No        35.104023   \n",
       "99998               33.638208                  No        35.104023   \n",
       "99999               34.192463                  No        35.104023   \n",
       "\n",
       "                   PaymentBehaviour MonthlyBalance  CreditScore  \\\n",
       "0       HighspentSmallvaluepayments     312.494089         Good   \n",
       "1        LowspentLargevaluepayments     284.629163         Good   \n",
       "2       LowspentMediumvaluepayments     331.209863         Good   \n",
       "3        LowspentSmallvaluepayments     223.451310         Good   \n",
       "4      HighspentMediumvaluepayments     341.489231         Good   \n",
       "...                             ...            ...          ...   \n",
       "99995   HighspentLargevaluepayments     479.866228         Poor   \n",
       "99996  HighspentMediumvaluepayments     496.651610         Poor   \n",
       "99997   HighspentLargevaluepayments     516.809083         Poor   \n",
       "99998    LowspentLargevaluepayments     319.164979     Standard   \n",
       "99999            NoPaymentBehaviour     393.673696         Poor   \n",
       "\n",
       "      CreditHistoryYears  \n",
       "0              22.000000  \n",
       "1              17.966516  \n",
       "2              22.000000  \n",
       "3              22.000000  \n",
       "4              22.000000  \n",
       "...                  ...  \n",
       "99995          31.000000  \n",
       "99996          31.000000  \n",
       "99997          31.000000  \n",
       "99998          31.000000  \n",
       "99999          31.000000  \n",
       "\n",
       "[100000 rows x 21 columns]"
      ]
     },
     "execution_count": 21,
     "metadata": {},
     "output_type": "execute_result"
    }
   ],
   "source": [
    "df_"
   ]
  },
  {
   "cell_type": "code",
   "execution_count": 22,
   "id": "666583a1",
   "metadata": {},
   "outputs": [
    {
     "data": {
      "text/plain": [
       "LowspentSmallvaluepayments      25513\n",
       "HighspentMediumvaluepayments    17540\n",
       "LowspentMediumvaluepayments     13861\n",
       "HighspentLargevaluepayments     13721\n",
       "HighspentSmallvaluepayments     11340\n",
       "LowspentLargevaluepayments      10425\n",
       "NoPaymentBehaviour               7600\n",
       "Name: PaymentBehaviour, dtype: int64"
      ]
     },
     "execution_count": 22,
     "metadata": {},
     "output_type": "execute_result"
    }
   ],
   "source": [
    "df_['PaymentBehaviour'].value_counts()"
   ]
  },
  {
   "cell_type": "code",
   "execution_count": 23,
   "id": "9a87d078",
   "metadata": {},
   "outputs": [],
   "source": [
    "df_ = pp.myPipe.transform(df_)"
   ]
  },
  {
   "cell_type": "code",
   "execution_count": null,
   "id": "1fd60ef5",
   "metadata": {},
   "outputs": [],
   "source": []
  },
  {
   "cell_type": "code",
   "execution_count": 24,
   "id": "1570e6b5",
   "metadata": {},
   "outputs": [
    {
     "data": {
      "text/html": [
       "<div>\n",
       "<style scoped>\n",
       "    .dataframe tbody tr th:only-of-type {\n",
       "        vertical-align: middle;\n",
       "    }\n",
       "\n",
       "    .dataframe tbody tr th {\n",
       "        vertical-align: top;\n",
       "    }\n",
       "\n",
       "    .dataframe thead th {\n",
       "        text-align: right;\n",
       "    }\n",
       "</style>\n",
       "<table border=\"1\" class=\"dataframe\">\n",
       "  <thead>\n",
       "    <tr style=\"text-align: right;\">\n",
       "      <th></th>\n",
       "      <th>Month</th>\n",
       "      <th>Age</th>\n",
       "      <th>AnnualIncome</th>\n",
       "      <th>MonthlyInhandSalary</th>\n",
       "      <th>NumBankAccounts</th>\n",
       "      <th>NumCreditCard</th>\n",
       "      <th>InterestRate</th>\n",
       "      <th>NumofLoan</th>\n",
       "      <th>Delayfromduedate</th>\n",
       "      <th>NumofDelayedPayment</th>\n",
       "      <th>...</th>\n",
       "      <th>Occupation_Scientist</th>\n",
       "      <th>Occupation_Teacher</th>\n",
       "      <th>Occupation_Writer</th>\n",
       "      <th>1</th>\n",
       "      <th>2</th>\n",
       "      <th>3</th>\n",
       "      <th>4</th>\n",
       "      <th>5</th>\n",
       "      <th>6</th>\n",
       "      <th>7</th>\n",
       "    </tr>\n",
       "  </thead>\n",
       "  <tbody>\n",
       "    <tr>\n",
       "      <th>0</th>\n",
       "      <td>0.0</td>\n",
       "      <td>23.000000</td>\n",
       "      <td>19114.12</td>\n",
       "      <td>1824.843333</td>\n",
       "      <td>3</td>\n",
       "      <td>4</td>\n",
       "      <td>3</td>\n",
       "      <td>4.0</td>\n",
       "      <td>3</td>\n",
       "      <td>7.000000</td>\n",
       "      <td>...</td>\n",
       "      <td>1</td>\n",
       "      <td>0</td>\n",
       "      <td>0</td>\n",
       "      <td>1.0</td>\n",
       "      <td>0.0</td>\n",
       "      <td>0.0</td>\n",
       "      <td>0.0</td>\n",
       "      <td>0.0</td>\n",
       "      <td>0.0</td>\n",
       "      <td>0.0</td>\n",
       "    </tr>\n",
       "    <tr>\n",
       "      <th>1</th>\n",
       "      <td>1.0</td>\n",
       "      <td>23.000000</td>\n",
       "      <td>19114.12</td>\n",
       "      <td>4194.170850</td>\n",
       "      <td>3</td>\n",
       "      <td>4</td>\n",
       "      <td>3</td>\n",
       "      <td>4.0</td>\n",
       "      <td>-1</td>\n",
       "      <td>13.220499</td>\n",
       "      <td>...</td>\n",
       "      <td>1</td>\n",
       "      <td>0</td>\n",
       "      <td>0</td>\n",
       "      <td>0.0</td>\n",
       "      <td>1.0</td>\n",
       "      <td>0.0</td>\n",
       "      <td>0.0</td>\n",
       "      <td>0.0</td>\n",
       "      <td>0.0</td>\n",
       "      <td>0.0</td>\n",
       "    </tr>\n",
       "    <tr>\n",
       "      <th>2</th>\n",
       "      <td>2.0</td>\n",
       "      <td>33.307829</td>\n",
       "      <td>19114.12</td>\n",
       "      <td>4194.170850</td>\n",
       "      <td>3</td>\n",
       "      <td>4</td>\n",
       "      <td>3</td>\n",
       "      <td>4.0</td>\n",
       "      <td>3</td>\n",
       "      <td>7.000000</td>\n",
       "      <td>...</td>\n",
       "      <td>1</td>\n",
       "      <td>0</td>\n",
       "      <td>0</td>\n",
       "      <td>0.0</td>\n",
       "      <td>0.0</td>\n",
       "      <td>1.0</td>\n",
       "      <td>0.0</td>\n",
       "      <td>0.0</td>\n",
       "      <td>0.0</td>\n",
       "      <td>0.0</td>\n",
       "    </tr>\n",
       "    <tr>\n",
       "      <th>3</th>\n",
       "      <td>3.0</td>\n",
       "      <td>23.000000</td>\n",
       "      <td>19114.12</td>\n",
       "      <td>4194.170850</td>\n",
       "      <td>3</td>\n",
       "      <td>4</td>\n",
       "      <td>3</td>\n",
       "      <td>4.0</td>\n",
       "      <td>5</td>\n",
       "      <td>4.000000</td>\n",
       "      <td>...</td>\n",
       "      <td>1</td>\n",
       "      <td>0</td>\n",
       "      <td>0</td>\n",
       "      <td>0.0</td>\n",
       "      <td>0.0</td>\n",
       "      <td>0.0</td>\n",
       "      <td>1.0</td>\n",
       "      <td>0.0</td>\n",
       "      <td>0.0</td>\n",
       "      <td>0.0</td>\n",
       "    </tr>\n",
       "    <tr>\n",
       "      <th>4</th>\n",
       "      <td>4.0</td>\n",
       "      <td>23.000000</td>\n",
       "      <td>19114.12</td>\n",
       "      <td>1824.843333</td>\n",
       "      <td>3</td>\n",
       "      <td>4</td>\n",
       "      <td>3</td>\n",
       "      <td>4.0</td>\n",
       "      <td>6</td>\n",
       "      <td>13.220499</td>\n",
       "      <td>...</td>\n",
       "      <td>1</td>\n",
       "      <td>0</td>\n",
       "      <td>0</td>\n",
       "      <td>0.0</td>\n",
       "      <td>0.0</td>\n",
       "      <td>0.0</td>\n",
       "      <td>0.0</td>\n",
       "      <td>1.0</td>\n",
       "      <td>0.0</td>\n",
       "      <td>0.0</td>\n",
       "    </tr>\n",
       "  </tbody>\n",
       "</table>\n",
       "<p>5 rows × 43 columns</p>\n",
       "</div>"
      ],
      "text/plain": [
       "   Month        Age  AnnualIncome  MonthlyInhandSalary  NumBankAccounts  \\\n",
       "0    0.0  23.000000      19114.12          1824.843333                3   \n",
       "1    1.0  23.000000      19114.12          4194.170850                3   \n",
       "2    2.0  33.307829      19114.12          4194.170850                3   \n",
       "3    3.0  23.000000      19114.12          4194.170850                3   \n",
       "4    4.0  23.000000      19114.12          1824.843333                3   \n",
       "\n",
       "   NumCreditCard  InterestRate  NumofLoan  Delayfromduedate  \\\n",
       "0              4             3        4.0                 3   \n",
       "1              4             3        4.0                -1   \n",
       "2              4             3        4.0                 3   \n",
       "3              4             3        4.0                 5   \n",
       "4              4             3        4.0                 6   \n",
       "\n",
       "   NumofDelayedPayment  ...  Occupation_Scientist  Occupation_Teacher  \\\n",
       "0             7.000000  ...                     1                   0   \n",
       "1            13.220499  ...                     1                   0   \n",
       "2             7.000000  ...                     1                   0   \n",
       "3             4.000000  ...                     1                   0   \n",
       "4            13.220499  ...                     1                   0   \n",
       "\n",
       "   Occupation_Writer    1    2    3    4    5    6    7  \n",
       "0                  0  1.0  0.0  0.0  0.0  0.0  0.0  0.0  \n",
       "1                  0  0.0  1.0  0.0  0.0  0.0  0.0  0.0  \n",
       "2                  0  0.0  0.0  1.0  0.0  0.0  0.0  0.0  \n",
       "3                  0  0.0  0.0  0.0  1.0  0.0  0.0  0.0  \n",
       "4                  0  0.0  0.0  0.0  0.0  1.0  0.0  0.0  \n",
       "\n",
       "[5 rows x 43 columns]"
      ]
     },
     "execution_count": 24,
     "metadata": {},
     "output_type": "execute_result"
    }
   ],
   "source": [
    "df_.head()"
   ]
  },
  {
   "cell_type": "code",
   "execution_count": null,
   "id": "0ed8d4f0",
   "metadata": {},
   "outputs": [],
   "source": []
  },
  {
   "cell_type": "markdown",
   "id": "ccd18bdd",
   "metadata": {},
   "source": [
    "# Separation of the target variable"
   ]
  },
  {
   "cell_type": "code",
   "execution_count": 25,
   "id": "891eae53",
   "metadata": {},
   "outputs": [],
   "source": [
    "X = df_.drop(['CreditScore','PaymentBehaviour'], axis = 1)"
   ]
  },
  {
   "cell_type": "code",
   "execution_count": 26,
   "id": "2b65d8e3",
   "metadata": {},
   "outputs": [],
   "source": [
    "Y = df_['CreditScore']"
   ]
  },
  {
   "cell_type": "code",
   "execution_count": 27,
   "id": "9fbd3bd7",
   "metadata": {},
   "outputs": [
    {
     "data": {
      "text/plain": [
       "(100000, 41)"
      ]
     },
     "execution_count": 27,
     "metadata": {},
     "output_type": "execute_result"
    }
   ],
   "source": [
    "X.shape"
   ]
  },
  {
   "cell_type": "code",
   "execution_count": 28,
   "id": "7f616efc",
   "metadata": {},
   "outputs": [
    {
     "data": {
      "text/html": [
       "<div>\n",
       "<style scoped>\n",
       "    .dataframe tbody tr th:only-of-type {\n",
       "        vertical-align: middle;\n",
       "    }\n",
       "\n",
       "    .dataframe tbody tr th {\n",
       "        vertical-align: top;\n",
       "    }\n",
       "\n",
       "    .dataframe thead th {\n",
       "        text-align: right;\n",
       "    }\n",
       "</style>\n",
       "<table border=\"1\" class=\"dataframe\">\n",
       "  <thead>\n",
       "    <tr style=\"text-align: right;\">\n",
       "      <th></th>\n",
       "      <th>Month</th>\n",
       "      <th>Age</th>\n",
       "      <th>AnnualIncome</th>\n",
       "      <th>MonthlyInhandSalary</th>\n",
       "      <th>NumBankAccounts</th>\n",
       "      <th>NumCreditCard</th>\n",
       "      <th>InterestRate</th>\n",
       "      <th>NumofLoan</th>\n",
       "      <th>Delayfromduedate</th>\n",
       "      <th>NumofDelayedPayment</th>\n",
       "      <th>...</th>\n",
       "      <th>Occupation_Scientist</th>\n",
       "      <th>Occupation_Teacher</th>\n",
       "      <th>Occupation_Writer</th>\n",
       "      <th>1</th>\n",
       "      <th>2</th>\n",
       "      <th>3</th>\n",
       "      <th>4</th>\n",
       "      <th>5</th>\n",
       "      <th>6</th>\n",
       "      <th>7</th>\n",
       "    </tr>\n",
       "  </thead>\n",
       "  <tbody>\n",
       "    <tr>\n",
       "      <th>0</th>\n",
       "      <td>0.0</td>\n",
       "      <td>23.000000</td>\n",
       "      <td>19114.12</td>\n",
       "      <td>1824.843333</td>\n",
       "      <td>3</td>\n",
       "      <td>4</td>\n",
       "      <td>3</td>\n",
       "      <td>4.0</td>\n",
       "      <td>3</td>\n",
       "      <td>7.000000</td>\n",
       "      <td>...</td>\n",
       "      <td>1</td>\n",
       "      <td>0</td>\n",
       "      <td>0</td>\n",
       "      <td>1.0</td>\n",
       "      <td>0.0</td>\n",
       "      <td>0.0</td>\n",
       "      <td>0.0</td>\n",
       "      <td>0.0</td>\n",
       "      <td>0.0</td>\n",
       "      <td>0.0</td>\n",
       "    </tr>\n",
       "    <tr>\n",
       "      <th>1</th>\n",
       "      <td>1.0</td>\n",
       "      <td>23.000000</td>\n",
       "      <td>19114.12</td>\n",
       "      <td>4194.170850</td>\n",
       "      <td>3</td>\n",
       "      <td>4</td>\n",
       "      <td>3</td>\n",
       "      <td>4.0</td>\n",
       "      <td>-1</td>\n",
       "      <td>13.220499</td>\n",
       "      <td>...</td>\n",
       "      <td>1</td>\n",
       "      <td>0</td>\n",
       "      <td>0</td>\n",
       "      <td>0.0</td>\n",
       "      <td>1.0</td>\n",
       "      <td>0.0</td>\n",
       "      <td>0.0</td>\n",
       "      <td>0.0</td>\n",
       "      <td>0.0</td>\n",
       "      <td>0.0</td>\n",
       "    </tr>\n",
       "    <tr>\n",
       "      <th>2</th>\n",
       "      <td>2.0</td>\n",
       "      <td>33.307829</td>\n",
       "      <td>19114.12</td>\n",
       "      <td>4194.170850</td>\n",
       "      <td>3</td>\n",
       "      <td>4</td>\n",
       "      <td>3</td>\n",
       "      <td>4.0</td>\n",
       "      <td>3</td>\n",
       "      <td>7.000000</td>\n",
       "      <td>...</td>\n",
       "      <td>1</td>\n",
       "      <td>0</td>\n",
       "      <td>0</td>\n",
       "      <td>0.0</td>\n",
       "      <td>0.0</td>\n",
       "      <td>1.0</td>\n",
       "      <td>0.0</td>\n",
       "      <td>0.0</td>\n",
       "      <td>0.0</td>\n",
       "      <td>0.0</td>\n",
       "    </tr>\n",
       "    <tr>\n",
       "      <th>3</th>\n",
       "      <td>3.0</td>\n",
       "      <td>23.000000</td>\n",
       "      <td>19114.12</td>\n",
       "      <td>4194.170850</td>\n",
       "      <td>3</td>\n",
       "      <td>4</td>\n",
       "      <td>3</td>\n",
       "      <td>4.0</td>\n",
       "      <td>5</td>\n",
       "      <td>4.000000</td>\n",
       "      <td>...</td>\n",
       "      <td>1</td>\n",
       "      <td>0</td>\n",
       "      <td>0</td>\n",
       "      <td>0.0</td>\n",
       "      <td>0.0</td>\n",
       "      <td>0.0</td>\n",
       "      <td>1.0</td>\n",
       "      <td>0.0</td>\n",
       "      <td>0.0</td>\n",
       "      <td>0.0</td>\n",
       "    </tr>\n",
       "    <tr>\n",
       "      <th>4</th>\n",
       "      <td>4.0</td>\n",
       "      <td>23.000000</td>\n",
       "      <td>19114.12</td>\n",
       "      <td>1824.843333</td>\n",
       "      <td>3</td>\n",
       "      <td>4</td>\n",
       "      <td>3</td>\n",
       "      <td>4.0</td>\n",
       "      <td>6</td>\n",
       "      <td>13.220499</td>\n",
       "      <td>...</td>\n",
       "      <td>1</td>\n",
       "      <td>0</td>\n",
       "      <td>0</td>\n",
       "      <td>0.0</td>\n",
       "      <td>0.0</td>\n",
       "      <td>0.0</td>\n",
       "      <td>0.0</td>\n",
       "      <td>1.0</td>\n",
       "      <td>0.0</td>\n",
       "      <td>0.0</td>\n",
       "    </tr>\n",
       "  </tbody>\n",
       "</table>\n",
       "<p>5 rows × 41 columns</p>\n",
       "</div>"
      ],
      "text/plain": [
       "   Month        Age  AnnualIncome  MonthlyInhandSalary  NumBankAccounts  \\\n",
       "0    0.0  23.000000      19114.12          1824.843333                3   \n",
       "1    1.0  23.000000      19114.12          4194.170850                3   \n",
       "2    2.0  33.307829      19114.12          4194.170850                3   \n",
       "3    3.0  23.000000      19114.12          4194.170850                3   \n",
       "4    4.0  23.000000      19114.12          1824.843333                3   \n",
       "\n",
       "   NumCreditCard  InterestRate  NumofLoan  Delayfromduedate  \\\n",
       "0              4             3        4.0                 3   \n",
       "1              4             3        4.0                -1   \n",
       "2              4             3        4.0                 3   \n",
       "3              4             3        4.0                 5   \n",
       "4              4             3        4.0                 6   \n",
       "\n",
       "   NumofDelayedPayment  ...  Occupation_Scientist  Occupation_Teacher  \\\n",
       "0             7.000000  ...                     1                   0   \n",
       "1            13.220499  ...                     1                   0   \n",
       "2             7.000000  ...                     1                   0   \n",
       "3             4.000000  ...                     1                   0   \n",
       "4            13.220499  ...                     1                   0   \n",
       "\n",
       "   Occupation_Writer    1    2    3    4    5    6    7  \n",
       "0                  0  1.0  0.0  0.0  0.0  0.0  0.0  0.0  \n",
       "1                  0  0.0  1.0  0.0  0.0  0.0  0.0  0.0  \n",
       "2                  0  0.0  0.0  1.0  0.0  0.0  0.0  0.0  \n",
       "3                  0  0.0  0.0  0.0  1.0  0.0  0.0  0.0  \n",
       "4                  0  0.0  0.0  0.0  0.0  1.0  0.0  0.0  \n",
       "\n",
       "[5 rows x 41 columns]"
      ]
     },
     "execution_count": 28,
     "metadata": {},
     "output_type": "execute_result"
    }
   ],
   "source": [
    "X.head()"
   ]
  },
  {
   "cell_type": "markdown",
   "id": "9933e994",
   "metadata": {},
   "source": [
    "# Создание проверочного набора (Create a validation set)"
   ]
  },
  {
   "cell_type": "code",
   "execution_count": 29,
   "id": "3e57917c",
   "metadata": {},
   "outputs": [],
   "source": [
    "from sklearn.model_selection import train_test_split\n",
    "\n",
    "X_train, X_test, Y_train,  Y_test = train_test_split(X, Y, test_size = 0.4, random_state = 0)"
   ]
  },
  {
   "cell_type": "code",
   "execution_count": 30,
   "id": "66cae845",
   "metadata": {},
   "outputs": [
    {
     "data": {
      "text/plain": [
       "((60000, 41), (60000,))"
      ]
     },
     "execution_count": 30,
     "metadata": {},
     "output_type": "execute_result"
    }
   ],
   "source": [
    "X_train.shape, Y_train.shape"
   ]
  },
  {
   "cell_type": "code",
   "execution_count": 75,
   "id": "34368668",
   "metadata": {},
   "outputs": [],
   "source": [
    "#X_train.shape, Y_train.shape"
   ]
  },
  {
   "cell_type": "raw",
   "id": "4097e04b",
   "metadata": {},
   "source": [
    "The train_test_split function of the sklearn. model_selection package in Python \n",
    "splits arrays or matrices into random subsets for train and test data, respectively."
   ]
  },
  {
   "cell_type": "code",
   "execution_count": 76,
   "id": "ac946847",
   "metadata": {},
   "outputs": [],
   "source": [
    "#from sklearn.preprocessing import StandardScaler\n",
    "#mms = StandardScaler()\n",
    "#X = mms.fit_transform(X)\n",
    "\n",
    "#from sklearn.preprocessing import MinMaxScaler\n",
    "#mms = MinMaxScaler()\n",
    "#X = mms.fit_transform(X_train)\n",
    "\n",
    "\n",
    "\n",
    "#with open('scaler.pickle', 'wb') as f:\n",
    "#    pickle.dump(X,f)\n",
    "\n",
    "\n",
    "#ЭТИ СТРОЧКИ НАДО ДЛЯ ПРИЛОЖЕНИЯ НАШЕГО ОТДЕЛЬНО ДЛЯ ВСЕГО!!!!!"
   ]
  },
  {
   "cell_type": "markdown",
   "id": "79eb3527",
   "metadata": {},
   "source": [
    "# a. ML With Teacher"
   ]
  },
  {
   "cell_type": "raw",
   "id": "d24aa090",
   "metadata": {},
   "source": [
    "Decision tree is a type of supervised learning algorithm that can be used for both regression and classification problems. \n",
    "The goal is to create a model that predicts the value of a target variable by learning simple decision rules inferred \n",
    "from the data features. A tree can be seen as a piecewise constant approximation.\n",
    "Method fit:Build a decision tree classifier from the training set (X_train, Y_train)."
   ]
  },
  {
   "cell_type": "markdown",
   "id": "e0cf07e0",
   "metadata": {},
   "source": [
    "# Version1"
   ]
  },
  {
   "cell_type": "code",
   "execution_count": 31,
   "id": "d69572bd",
   "metadata": {},
   "outputs": [],
   "source": [
    "from sklearn.tree import DecisionTreeClassifier\n",
    "from sklearn.model_selection import GridSearchCV"
   ]
  },
  {
   "cell_type": "code",
   "execution_count": 32,
   "id": "f44ef15d",
   "metadata": {},
   "outputs": [],
   "source": [
    "tree = DecisionTreeClassifier()   "
   ]
  },
  {
   "cell_type": "code",
   "execution_count": 33,
   "id": "399e53eb",
   "metadata": {},
   "outputs": [],
   "source": [
    "paramgrid = { 'max_depth' :[5,6,8,13,20], 'min_samples_split':[11,13,15,18], 'max_features':[4,15,20,24,26]} "
   ]
  },
  {
   "cell_type": "code",
   "execution_count": 34,
   "id": "1a2c301e",
   "metadata": {},
   "outputs": [],
   "source": [
    "GS_cv = GridSearchCV(tree,param_grid = paramgrid, cv = 3,scoring = 'f1_macro')\n",
    "# cv - количество разбиений\n",
    "# we should use scoring = 'f1_macro!!!!!!!"
   ]
  },
  {
   "cell_type": "code",
   "execution_count": 35,
   "id": "b2bd650a",
   "metadata": {},
   "outputs": [
    {
     "data": {
      "text/plain": [
       "GridSearchCV(cv=3, estimator=DecisionTreeClassifier(),\n",
       "             param_grid={'max_depth': [5, 6, 8, 13, 20],\n",
       "                         'max_features': [4, 15, 20, 24, 26],\n",
       "                         'min_samples_split': [11, 13, 15, 18]},\n",
       "             scoring='f1_macro')"
      ]
     },
     "execution_count": 35,
     "metadata": {},
     "output_type": "execute_result"
    }
   ],
   "source": [
    "GS_cv.fit(X_train,Y_train)"
   ]
  },
  {
   "cell_type": "code",
   "execution_count": 36,
   "id": "6c1fbe32",
   "metadata": {},
   "outputs": [
    {
     "data": {
      "text/plain": [
       "{'max_depth': 8, 'max_features': 26, 'min_samples_split': 18}"
      ]
     },
     "execution_count": 36,
     "metadata": {},
     "output_type": "execute_result"
    }
   ],
   "source": [
    "GS_cv.best_params_"
   ]
  },
  {
   "cell_type": "code",
   "execution_count": 37,
   "id": "35f28003",
   "metadata": {},
   "outputs": [],
   "source": [
    "best_gs_tree=GS_cv.best_estimator_"
   ]
  },
  {
   "cell_type": "code",
   "execution_count": 38,
   "id": "33478b74",
   "metadata": {},
   "outputs": [
    {
     "data": {
      "text/plain": [
       "0.688125"
      ]
     },
     "execution_count": 38,
     "metadata": {},
     "output_type": "execute_result"
    }
   ],
   "source": [
    "best_gs_tree.score(X_test,Y_test)"
   ]
  },
  {
   "cell_type": "code",
   "execution_count": 39,
   "id": "23222421",
   "metadata": {},
   "outputs": [
    {
     "data": {
      "text/plain": [
       "0.7029666666666666"
      ]
     },
     "execution_count": 39,
     "metadata": {},
     "output_type": "execute_result"
    }
   ],
   "source": [
    "best_gs_tree.score(X_train,Y_train)"
   ]
  },
  {
   "cell_type": "code",
   "execution_count": 40,
   "id": "17d28408",
   "metadata": {},
   "outputs": [],
   "source": [
    "from sklearn.metrics import f1_score\n",
    "pred = best_gs_tree.predict(X_test)\n",
    "f1_score = (Y_test,pred)"
   ]
  },
  {
   "cell_type": "code",
   "execution_count": 41,
   "id": "c7417c0c",
   "metadata": {},
   "outputs": [],
   "source": [
    "from sklearn.model_selection import cross_val_score"
   ]
  },
  {
   "cell_type": "code",
   "execution_count": 42,
   "id": "6fcda0ea",
   "metadata": {},
   "outputs": [],
   "source": [
    "cs = cross_val_score(best_gs_tree,X_train,Y_train, cv= 6, scoring = 'f1_macro')"
   ]
  },
  {
   "cell_type": "code",
   "execution_count": 43,
   "id": "623984a0",
   "metadata": {},
   "outputs": [
    {
     "data": {
      "text/plain": [
       "array([0.66987098, 0.66240898, 0.65932994, 0.67147287, 0.66669707,\n",
       "       0.68133684])"
      ]
     },
     "execution_count": 43,
     "metadata": {},
     "output_type": "execute_result"
    }
   ],
   "source": [
    "cs"
   ]
  },
  {
   "cell_type": "code",
   "execution_count": 130,
   "id": "d755b11d",
   "metadata": {},
   "outputs": [
    {
     "data": {
      "text/plain": [
       "0.6707396323565188"
      ]
     },
     "execution_count": 130,
     "metadata": {},
     "output_type": "execute_result"
    }
   ],
   "source": [
    "cs.mean()"
   ]
  },
  {
   "cell_type": "code",
   "execution_count": null,
   "id": "ea1060fc",
   "metadata": {},
   "outputs": [],
   "source": []
  },
  {
   "cell_type": "code",
   "execution_count": 131,
   "id": "c270e645",
   "metadata": {},
   "outputs": [
    {
     "data": {
      "text/plain": [
       "DecisionTreeClassifier(max_depth=7, random_state=0)"
      ]
     },
     "execution_count": 131,
     "metadata": {},
     "output_type": "execute_result"
    }
   ],
   "source": [
    "#tree_cl = DecisionTreeClassifier(max_depth=7, min_samples_split=2, min_samples_leaf=1,random_state=0)\n",
    "#tree_cl.fit(X_train, Y_train)"
   ]
  },
  {
   "cell_type": "code",
   "execution_count": 133,
   "id": "0fb2862c",
   "metadata": {},
   "outputs": [
    {
     "data": {
      "text/plain": [
       "(0.689475, 0.7002333333333334)"
      ]
     },
     "execution_count": 133,
     "metadata": {},
     "output_type": "execute_result"
    }
   ],
   "source": [
    "#tree_cl.score(X_test,Y_test), tree_cl.score(X_train, Y_train)"
   ]
  },
  {
   "cell_type": "markdown",
   "id": "7c41aed3",
   "metadata": {},
   "source": [
    "# Version2"
   ]
  },
  {
   "cell_type": "markdown",
   "id": "328d2fa1",
   "metadata": {},
   "source": [
    "# Cross - Validation with decision tree"
   ]
  },
  {
   "cell_type": "code",
   "execution_count": 46,
   "id": "ebb8861c",
   "metadata": {},
   "outputs": [
    {
     "data": {
      "text/plain": [
       "DecisionTreeClassifier(max_depth=7, random_state=0)"
      ]
     },
     "execution_count": 46,
     "metadata": {},
     "output_type": "execute_result"
    }
   ],
   "source": [
    "tree_cl = DecisionTreeClassifier(max_depth=7, min_samples_split=2, min_samples_leaf=1,random_state=0)\n",
    "tree_cl.fit(X_train, Y_train)"
   ]
  },
  {
   "cell_type": "code",
   "execution_count": 47,
   "id": "24dc68f1",
   "metadata": {},
   "outputs": [
    {
     "data": {
      "text/plain": [
       "(0.689475, 0.7002333333333334)"
      ]
     },
     "execution_count": 47,
     "metadata": {},
     "output_type": "execute_result"
    }
   ],
   "source": [
    "tree_cl.score(X_test,Y_test), tree_cl.score(X_train, Y_train)"
   ]
  },
  {
   "cell_type": "code",
   "execution_count": 48,
   "id": "4444144d",
   "metadata": {},
   "outputs": [],
   "source": [
    "from sklearn.model_selection import cross_val_score, cross_val_predict"
   ]
  },
  {
   "cell_type": "code",
   "execution_count": 49,
   "id": "037829e1",
   "metadata": {},
   "outputs": [],
   "source": [
    "#передаем наш классификатор обученный, и наше множество,на котором учим.cv - то сколько разбиений мы хотим делать\n",
    "# scoring='roc_auc'\n",
    "# we pass our trained classifier, and our set on which we learn. cv - how many partitions we want to do\n",
    "score = cross_val_score(tree_cl, X_train, Y_train, cv=5) "
   ]
  },
  {
   "cell_type": "code",
   "execution_count": 50,
   "id": "23f168ad",
   "metadata": {},
   "outputs": [
    {
     "data": {
      "text/plain": [
       "array([0.69491667, 0.68691667, 0.6915    , 0.68791667, 0.69566667])"
      ]
     },
     "execution_count": 50,
     "metadata": {},
     "output_type": "execute_result"
    }
   ],
   "source": [
    "# получили 5 оценок из множества X, Y\n",
    "#received 5 ratings from the set X, Y\n",
    "score"
   ]
  },
  {
   "cell_type": "code",
   "execution_count": 51,
   "id": "1a3baa7c",
   "metadata": {},
   "outputs": [
    {
     "data": {
      "text/plain": [
       "0.6913833333333332"
      ]
     },
     "execution_count": 51,
     "metadata": {},
     "output_type": "execute_result"
    }
   ],
   "source": [
    "score.mean()"
   ]
  },
  {
   "cell_type": "code",
   "execution_count": null,
   "id": "a76cb022",
   "metadata": {},
   "outputs": [],
   "source": []
  },
  {
   "cell_type": "raw",
   "id": "15244ac9",
   "metadata": {},
   "source": [
    "Export a decision tree in DOT format.\n",
    "This function (export_graphviz) generates a GraphViz representation of the decision tree, which is then written into out_file"
   ]
  },
  {
   "cell_type": "code",
   "execution_count": 58,
   "id": "8aebf810",
   "metadata": {},
   "outputs": [],
   "source": [
    "from sklearn.tree import export_graphviz"
   ]
  },
  {
   "cell_type": "code",
   "execution_count": null,
   "id": "db164ad7",
   "metadata": {},
   "outputs": [],
   "source": []
  },
  {
   "cell_type": "code",
   "execution_count": 65,
   "id": "454bf246",
   "metadata": {},
   "outputs": [],
   "source": [
    "export_graphviz (tree_cl, out_file = 'creditscore_tree.dot', max_depth=2, feature_names=None, class_names=None, label='all', filled=True, leaves_parallel=False, impurity=True, node_ids=False, proportion=False, rotate=False, rounded=True, special_characters=False, precision=3)\n",
    "\n",
    "# param rounded: When set to True, draw node boxes with rounded corners.\n",
    "# param filled:  When set to True, paint nodes to indicate majority class for classification,\n",
    "#                extremity of values for regression, or purity of node for multi-output."
   ]
  },
  {
   "cell_type": "code",
   "execution_count": 66,
   "id": "1d28a83d",
   "metadata": {},
   "outputs": [],
   "source": [
    "!dot -Tpng creditscore_tree.dot -o creditscore_tree.png"
   ]
  },
  {
   "cell_type": "code",
   "execution_count": null,
   "id": "fca68bb6",
   "metadata": {},
   "outputs": [],
   "source": []
  },
  {
   "cell_type": "code",
   "execution_count": null,
   "id": "f966dfd2",
   "metadata": {},
   "outputs": [],
   "source": []
  },
  {
   "cell_type": "markdown",
   "id": "99d3824c",
   "metadata": {},
   "source": [
    "# Отбор случайным лесом (Selection by random forest)"
   ]
  },
  {
   "cell_type": "raw",
   "id": "1c633236",
   "metadata": {},
   "source": [
    "A random forest classifier. A random forest is a meta estimator that fits a number of decision tree classifiers on various sub-samples of the dataset \n",
    "and uses averaging to improve the predictive accuracy and control over-fitting.\n",
    "\n",
    "method fit : Build a forest of trees from the training set (X_train, Y_train).\n",
    "attribute feature_importances_ : Feature importances are provided by the fitted attribute feature_importances_ \n",
    "                                 and they are computed as the mean and standard deviation of accumulation of the impurity decrease within each tree;\n"
   ]
  },
  {
   "cell_type": "markdown",
   "id": "6dd74006",
   "metadata": {},
   "source": [
    "# Version1"
   ]
  },
  {
   "cell_type": "code",
   "execution_count": 186,
   "id": "fa23b78c",
   "metadata": {},
   "outputs": [],
   "source": [
    "from sklearn.ensemble import RandomForestClassifier\n",
    "rf_clf = RandomForestClassifier() "
   ]
  },
  {
   "cell_type": "code",
   "execution_count": 187,
   "id": "7eb5a09b",
   "metadata": {},
   "outputs": [],
   "source": [
    "paramgrid = { 'n_estimators' :[10,20,30,40,100], 'max_depth':[5,15,19], 'criterion':['gini', 'entropy']}   "
   ]
  },
  {
   "cell_type": "code",
   "execution_count": 188,
   "id": "6fa749e6",
   "metadata": {},
   "outputs": [],
   "source": [
    "GS_cv = GridSearchCV(rf_clf,param_grid = paramgrid, cv = 3,scoring = 'f1_macro')\n",
    "# cv - количество разбиений"
   ]
  },
  {
   "cell_type": "code",
   "execution_count": 189,
   "id": "60c80e3f",
   "metadata": {},
   "outputs": [
    {
     "data": {
      "text/plain": [
       "GridSearchCV(cv=3, estimator=RandomForestClassifier(),\n",
       "             param_grid={'criterion': ['gini', 'entropy'],\n",
       "                         'max_depth': [5, 15, 19],\n",
       "                         'n_estimators': [10, 20, 30, 40, 100]},\n",
       "             scoring='f1')"
      ]
     },
     "execution_count": 189,
     "metadata": {},
     "output_type": "execute_result"
    }
   ],
   "source": [
    "GS_cv.fit(X_train, Y_train)"
   ]
  },
  {
   "cell_type": "code",
   "execution_count": 190,
   "id": "1837a393",
   "metadata": {},
   "outputs": [
    {
     "data": {
      "text/plain": [
       "{'criterion': 'gini', 'max_depth': 19, 'n_estimators': 100}"
      ]
     },
     "execution_count": 190,
     "metadata": {},
     "output_type": "execute_result"
    }
   ],
   "source": [
    "GS_cv.best_params_"
   ]
  },
  {
   "cell_type": "code",
   "execution_count": 51,
   "id": "c65fbf51",
   "metadata": {},
   "outputs": [],
   "source": [
    "best_gs_tree=GS_cv.best_estimator_"
   ]
  },
  {
   "cell_type": "code",
   "execution_count": 53,
   "id": "19a071e3",
   "metadata": {},
   "outputs": [
    {
     "data": {
      "text/plain": [
       "0.85032"
      ]
     },
     "execution_count": 53,
     "metadata": {},
     "output_type": "execute_result"
    }
   ],
   "source": [
    "best_gs_tree.score(X_test,Y_test)"
   ]
  },
  {
   "cell_type": "code",
   "execution_count": 54,
   "id": "25642031",
   "metadata": {},
   "outputs": [
    {
     "data": {
      "text/plain": [
       "0.95326"
      ]
     },
     "execution_count": 54,
     "metadata": {},
     "output_type": "execute_result"
    }
   ],
   "source": [
    "best_gs_tree.score(X_train, Y_train)"
   ]
  },
  {
   "cell_type": "code",
   "execution_count": 55,
   "id": "f1c59c7e",
   "metadata": {},
   "outputs": [],
   "source": [
    "from sklearn.metrics import f1_score\n",
    "pred = best_gs_tree.predict(X_test)\n",
    "f1_score = (Y_test,pred)"
   ]
  },
  {
   "cell_type": "code",
   "execution_count": 56,
   "id": "ec8d65b8",
   "metadata": {},
   "outputs": [],
   "source": [
    "cs = cross_val_score(best_gs_tree,X_train, Y_train, cv= 5, scoring = 'f1_macro')"
   ]
  },
  {
   "cell_type": "code",
   "execution_count": 57,
   "id": "4de6b4cc",
   "metadata": {},
   "outputs": [
    {
     "data": {
      "text/plain": [
       "array([0.72163444, 0.71298532, 0.71964517, 0.71974991, 0.72586588])"
      ]
     },
     "execution_count": 57,
     "metadata": {},
     "output_type": "execute_result"
    }
   ],
   "source": [
    "cs"
   ]
  },
  {
   "cell_type": "code",
   "execution_count": 58,
   "id": "5140f48e",
   "metadata": {},
   "outputs": [
    {
     "data": {
      "text/plain": [
       "0.719976144015885"
      ]
     },
     "execution_count": 58,
     "metadata": {},
     "output_type": "execute_result"
    }
   ],
   "source": [
    "cs.mean()"
   ]
  },
  {
   "cell_type": "code",
   "execution_count": null,
   "id": "44bd8c5e",
   "metadata": {},
   "outputs": [],
   "source": []
  },
  {
   "cell_type": "markdown",
   "id": "c9a5022c",
   "metadata": {},
   "source": [
    "# Version2"
   ]
  },
  {
   "cell_type": "code",
   "execution_count": 165,
   "id": "1a7237fe",
   "metadata": {},
   "outputs": [
    {
     "data": {
      "text/plain": [
       "array([4.46953169e-03, 2.63559685e-03, 8.69869281e-03, 4.84615416e-03,\n",
       "       4.57868013e-02, 5.85697074e-02, 1.43232981e-01, 3.18621702e-02,\n",
       "       8.63350662e-02, 2.51335648e-02, 3.31470397e-02, 6.50480597e-02,\n",
       "       1.90523548e-01, 1.94193004e-01, 5.10768653e-04, 6.16939336e-02,\n",
       "       4.10967956e-03, 1.36748660e-03, 5.91066342e-03, 3.00010927e-02,\n",
       "       2.30938754e-05, 2.17796443e-05, 3.95808728e-05, 4.34955070e-05,\n",
       "       5.72739689e-05, 4.87331889e-05, 6.56269208e-05, 3.12278717e-05,\n",
       "       4.51522555e-05, 2.95096171e-05, 8.79116725e-05, 8.08539492e-05,\n",
       "       7.99982748e-05, 2.96288536e-05, 5.20203825e-05, 9.46109459e-05,\n",
       "       1.64982304e-05, 4.83671871e-05, 5.47169403e-04, 1.11580243e-04,\n",
       "       2.26492770e-05, 3.28124570e-04, 1.95706636e-05])"
      ]
     },
     "execution_count": 165,
     "metadata": {},
     "output_type": "execute_result"
    }
   ],
   "source": [
    "\n",
    "randfor_cl = RandomForestClassifier(n_estimators=600, max_depth=5, min_samples_split=2, min_samples_leaf=1, random_state = 0)\n",
    "randfor_cl.fit(X_train, Y_train)\n",
    "randfor_cl.feature_importances_\n"
   ]
  },
  {
   "cell_type": "code",
   "execution_count": 166,
   "id": "a2d92582",
   "metadata": {},
   "outputs": [
    {
     "data": {
      "text/plain": [
       "(0.6629475992943308, 0.6686692823279385)"
      ]
     },
     "execution_count": 166,
     "metadata": {},
     "output_type": "execute_result"
    }
   ],
   "source": [
    "randfor_cl.score(X_test,Y_test), randfor_cl.score(X_train, Y_train)"
   ]
  },
  {
   "cell_type": "code",
   "execution_count": null,
   "id": "45a34c9d",
   "metadata": {},
   "outputs": [],
   "source": []
  },
  {
   "cell_type": "code",
   "execution_count": null,
   "id": "2964fe70",
   "metadata": {},
   "outputs": [],
   "source": []
  },
  {
   "cell_type": "markdown",
   "id": "f886ec5d",
   "metadata": {},
   "source": [
    "# save model"
   ]
  },
  {
   "cell_type": "code",
   "execution_count": null,
   "id": "c4016e91",
   "metadata": {},
   "outputs": [],
   "source": [
    "import pickle\n",
    "with open('data.pickle', 'wb') as f:\n",
    "     pickle.dump(randfor_cl, f)"
   ]
  },
  {
   "cell_type": "code",
   "execution_count": null,
   "id": "bb50085f",
   "metadata": {},
   "outputs": [],
   "source": [
    "with open('data.pickle', 'rb') as f:\n",
    "     new_randfor_cl = pickle.load(f)"
   ]
  }
 ],
 "metadata": {
  "kernelspec": {
   "display_name": "Python 3 (ipykernel)",
   "language": "python",
   "name": "python3"
  },
  "language_info": {
   "codemirror_mode": {
    "name": "ipython",
    "version": 3
   },
   "file_extension": ".py",
   "mimetype": "text/x-python",
   "name": "python",
   "nbconvert_exporter": "python",
   "pygments_lexer": "ipython3",
   "version": "3.9.7"
  }
 },
 "nbformat": 4,
 "nbformat_minor": 5
}

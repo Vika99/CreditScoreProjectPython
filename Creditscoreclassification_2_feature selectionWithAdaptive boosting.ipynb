{
 "cells": [
  {
   "cell_type": "code",
   "execution_count": null,
   "id": "a1bea8cb",
   "metadata": {},
   "outputs": [],
   "source": [
    "#from google.colab import drive\n",
    "#from google.colab import files"
   ]
  },
  {
   "cell_type": "code",
   "execution_count": null,
   "id": "069ebcb2",
   "metadata": {},
   "outputs": [],
   "source": [
    "#!mkdir GD"
   ]
  },
  {
   "cell_type": "code",
   "execution_count": null,
   "id": "c9346609",
   "metadata": {},
   "outputs": [],
   "source": [
    "#drive.mount('/GD',force_remount=True)"
   ]
  },
  {
   "cell_type": "code",
   "execution_count": null,
   "id": "3e651335",
   "metadata": {},
   "outputs": [],
   "source": [
    "#!cp -r /GD/'My Drive'/NewDataFrame.csv ."
   ]
  },
  {
   "cell_type": "code",
   "execution_count": null,
   "id": "333354ab",
   "metadata": {},
   "outputs": [],
   "source": [
    "# !cp -r /GD/'My Drive'/pipes_.py ."
   ]
  },
  {
   "cell_type": "code",
   "execution_count": null,
   "id": "572e489e",
   "metadata": {},
   "outputs": [],
   "source": [
    "# the first 5 lines for collab, GPU!!!! For better speed"
   ]
  },
  {
   "cell_type": "markdown",
   "id": "be46dd69",
   "metadata": {},
   "source": [
    "#In this section: applimentation of transformer(pipes_), separation the target variable, scaling and standardization, division data into test and training. Applimentation of Adaptive boosting (ML with Teacher) with feature_selection module. Usage of Grid search optimization algorithm which lets us select the best parameters for our optimization problem.\n",
    "\n",
    "\n",
    "#The classes in the sklearn.feature_selection module  used for feature dimensionality reduction on sample sets, either to improve estimators’ accuracy scores or to boost their performance on very high-dimensional datasets."
   ]
  },
  {
   "cell_type": "code",
   "execution_count": 1,
   "id": "7a7abf99",
   "metadata": {},
   "outputs": [],
   "source": [
    "import pandas as pd\n",
    "import pipes_ as pp\n",
    "from matplotlib import pyplot as plt\n",
    "import numpy as np\n",
    "from sklearn.metrics import confusion_matrix, precision_score, \\\n",
    "              recall_score, f1_score, precision_recall_curve, roc_curve, roc_auc_score, \\\n",
    "              auc, mean_squared_error\n",
    "from sklearn.metrics import confusion_matrix, precision_score, \\\n",
    "              recall_score, f1_score, precision_recall_curve, roc_curve, roc_auc_score, \\\n",
    "              auc, mean_squared_error, accuracy_score"
   ]
  },
  {
   "cell_type": "markdown",
   "id": "a395908e",
   "metadata": {},
   "source": [
    "# 1.We review the information via transformer. Preparing data for processing format"
   ]
  },
  {
   "cell_type": "code",
   "execution_count": 2,
   "id": "e366498f",
   "metadata": {},
   "outputs": [],
   "source": [
    "df_ = pd.read_csv('NewDataFrame.csv')\n",
    "#df_.rename({\"Unnamed: 0\":\"a\"}, axis=\"columns\", inplace=True)\n",
    "#df_.drop([\"a\"], axis=1, inplace=True)"
   ]
  },
  {
   "cell_type": "code",
   "execution_count": 3,
   "id": "9a1be055",
   "metadata": {},
   "outputs": [],
   "source": [
    "df_ = pp.myPipe.transform(df_)"
   ]
  },
  {
   "cell_type": "code",
   "execution_count": 4,
   "id": "0dcd00be",
   "metadata": {},
   "outputs": [
    {
     "data": {
      "text/html": [
       "<div>\n",
       "<style scoped>\n",
       "    .dataframe tbody tr th:only-of-type {\n",
       "        vertical-align: middle;\n",
       "    }\n",
       "\n",
       "    .dataframe tbody tr th {\n",
       "        vertical-align: top;\n",
       "    }\n",
       "\n",
       "    .dataframe thead th {\n",
       "        text-align: right;\n",
       "    }\n",
       "</style>\n",
       "<table border=\"1\" class=\"dataframe\">\n",
       "  <thead>\n",
       "    <tr style=\"text-align: right;\">\n",
       "      <th></th>\n",
       "      <th>Month</th>\n",
       "      <th>Age</th>\n",
       "      <th>AnnualIncome</th>\n",
       "      <th>MonthlyInhandSalary</th>\n",
       "      <th>NumBankAccounts</th>\n",
       "      <th>NumCreditCard</th>\n",
       "      <th>InterestRate</th>\n",
       "      <th>NumofLoan</th>\n",
       "      <th>Delayfromduedate</th>\n",
       "      <th>NumofDelayedPayment</th>\n",
       "      <th>...</th>\n",
       "      <th>Occupation_Scientist</th>\n",
       "      <th>Occupation_Teacher</th>\n",
       "      <th>Occupation_Writer</th>\n",
       "      <th>1</th>\n",
       "      <th>2</th>\n",
       "      <th>3</th>\n",
       "      <th>4</th>\n",
       "      <th>5</th>\n",
       "      <th>6</th>\n",
       "      <th>7</th>\n",
       "    </tr>\n",
       "  </thead>\n",
       "  <tbody>\n",
       "    <tr>\n",
       "      <th>0</th>\n",
       "      <td>0.0</td>\n",
       "      <td>23.000000</td>\n",
       "      <td>19114.12</td>\n",
       "      <td>1824.843333</td>\n",
       "      <td>3</td>\n",
       "      <td>4</td>\n",
       "      <td>3</td>\n",
       "      <td>4.0</td>\n",
       "      <td>3</td>\n",
       "      <td>7.000000</td>\n",
       "      <td>...</td>\n",
       "      <td>1</td>\n",
       "      <td>0</td>\n",
       "      <td>0</td>\n",
       "      <td>1.0</td>\n",
       "      <td>0.0</td>\n",
       "      <td>0.0</td>\n",
       "      <td>0.0</td>\n",
       "      <td>0.0</td>\n",
       "      <td>0.0</td>\n",
       "      <td>0.0</td>\n",
       "    </tr>\n",
       "    <tr>\n",
       "      <th>1</th>\n",
       "      <td>1.0</td>\n",
       "      <td>23.000000</td>\n",
       "      <td>19114.12</td>\n",
       "      <td>4194.170850</td>\n",
       "      <td>3</td>\n",
       "      <td>4</td>\n",
       "      <td>3</td>\n",
       "      <td>4.0</td>\n",
       "      <td>-1</td>\n",
       "      <td>13.220499</td>\n",
       "      <td>...</td>\n",
       "      <td>1</td>\n",
       "      <td>0</td>\n",
       "      <td>0</td>\n",
       "      <td>0.0</td>\n",
       "      <td>1.0</td>\n",
       "      <td>0.0</td>\n",
       "      <td>0.0</td>\n",
       "      <td>0.0</td>\n",
       "      <td>0.0</td>\n",
       "      <td>0.0</td>\n",
       "    </tr>\n",
       "    <tr>\n",
       "      <th>2</th>\n",
       "      <td>2.0</td>\n",
       "      <td>33.307829</td>\n",
       "      <td>19114.12</td>\n",
       "      <td>4194.170850</td>\n",
       "      <td>3</td>\n",
       "      <td>4</td>\n",
       "      <td>3</td>\n",
       "      <td>4.0</td>\n",
       "      <td>3</td>\n",
       "      <td>7.000000</td>\n",
       "      <td>...</td>\n",
       "      <td>1</td>\n",
       "      <td>0</td>\n",
       "      <td>0</td>\n",
       "      <td>0.0</td>\n",
       "      <td>0.0</td>\n",
       "      <td>1.0</td>\n",
       "      <td>0.0</td>\n",
       "      <td>0.0</td>\n",
       "      <td>0.0</td>\n",
       "      <td>0.0</td>\n",
       "    </tr>\n",
       "    <tr>\n",
       "      <th>3</th>\n",
       "      <td>3.0</td>\n",
       "      <td>23.000000</td>\n",
       "      <td>19114.12</td>\n",
       "      <td>4194.170850</td>\n",
       "      <td>3</td>\n",
       "      <td>4</td>\n",
       "      <td>3</td>\n",
       "      <td>4.0</td>\n",
       "      <td>5</td>\n",
       "      <td>4.000000</td>\n",
       "      <td>...</td>\n",
       "      <td>1</td>\n",
       "      <td>0</td>\n",
       "      <td>0</td>\n",
       "      <td>0.0</td>\n",
       "      <td>0.0</td>\n",
       "      <td>0.0</td>\n",
       "      <td>1.0</td>\n",
       "      <td>0.0</td>\n",
       "      <td>0.0</td>\n",
       "      <td>0.0</td>\n",
       "    </tr>\n",
       "    <tr>\n",
       "      <th>4</th>\n",
       "      <td>4.0</td>\n",
       "      <td>23.000000</td>\n",
       "      <td>19114.12</td>\n",
       "      <td>1824.843333</td>\n",
       "      <td>3</td>\n",
       "      <td>4</td>\n",
       "      <td>3</td>\n",
       "      <td>4.0</td>\n",
       "      <td>6</td>\n",
       "      <td>13.220499</td>\n",
       "      <td>...</td>\n",
       "      <td>1</td>\n",
       "      <td>0</td>\n",
       "      <td>0</td>\n",
       "      <td>0.0</td>\n",
       "      <td>0.0</td>\n",
       "      <td>0.0</td>\n",
       "      <td>0.0</td>\n",
       "      <td>1.0</td>\n",
       "      <td>0.0</td>\n",
       "      <td>0.0</td>\n",
       "    </tr>\n",
       "  </tbody>\n",
       "</table>\n",
       "<p>5 rows × 43 columns</p>\n",
       "</div>"
      ],
      "text/plain": [
       "   Month        Age  AnnualIncome  MonthlyInhandSalary  NumBankAccounts  \\\n",
       "0    0.0  23.000000      19114.12          1824.843333                3   \n",
       "1    1.0  23.000000      19114.12          4194.170850                3   \n",
       "2    2.0  33.307829      19114.12          4194.170850                3   \n",
       "3    3.0  23.000000      19114.12          4194.170850                3   \n",
       "4    4.0  23.000000      19114.12          1824.843333                3   \n",
       "\n",
       "   NumCreditCard  InterestRate  NumofLoan  Delayfromduedate  \\\n",
       "0              4             3        4.0                 3   \n",
       "1              4             3        4.0                -1   \n",
       "2              4             3        4.0                 3   \n",
       "3              4             3        4.0                 5   \n",
       "4              4             3        4.0                 6   \n",
       "\n",
       "   NumofDelayedPayment  ...  Occupation_Scientist  Occupation_Teacher  \\\n",
       "0             7.000000  ...                     1                   0   \n",
       "1            13.220499  ...                     1                   0   \n",
       "2             7.000000  ...                     1                   0   \n",
       "3             4.000000  ...                     1                   0   \n",
       "4            13.220499  ...                     1                   0   \n",
       "\n",
       "   Occupation_Writer    1    2    3    4    5    6    7  \n",
       "0                  0  1.0  0.0  0.0  0.0  0.0  0.0  0.0  \n",
       "1                  0  0.0  1.0  0.0  0.0  0.0  0.0  0.0  \n",
       "2                  0  0.0  0.0  1.0  0.0  0.0  0.0  0.0  \n",
       "3                  0  0.0  0.0  0.0  1.0  0.0  0.0  0.0  \n",
       "4                  0  0.0  0.0  0.0  0.0  1.0  0.0  0.0  \n",
       "\n",
       "[5 rows x 43 columns]"
      ]
     },
     "execution_count": 4,
     "metadata": {},
     "output_type": "execute_result"
    }
   ],
   "source": [
    "df_.head()"
   ]
  },
  {
   "cell_type": "markdown",
   "id": "0971fcfa",
   "metadata": {},
   "source": [
    "# Separation of the target variable"
   ]
  },
  {
   "cell_type": "code",
   "execution_count": 5,
   "id": "63545a9e",
   "metadata": {},
   "outputs": [],
   "source": [
    "X = df_.drop(['CreditScore','PaymentBehaviour','Occupation'], axis = 1)"
   ]
  },
  {
   "cell_type": "code",
   "execution_count": 6,
   "id": "729ad91d",
   "metadata": {},
   "outputs": [],
   "source": [
    "Y = df_['CreditScore']"
   ]
  },
  {
   "cell_type": "markdown",
   "id": "9933e994",
   "metadata": {},
   "source": [
    "# Создание проверочного набора (Create a validation set)"
   ]
  },
  {
   "cell_type": "code",
   "execution_count": 7,
   "id": "3e57917c",
   "metadata": {},
   "outputs": [],
   "source": [
    "from sklearn.model_selection import train_test_split\n",
    "\n",
    "X_train, X_test, Y_train,  Y_test = train_test_split(X, Y, test_size = 0.4, random_state = 15)"
   ]
  },
  {
   "cell_type": "code",
   "execution_count": 8,
   "id": "34368668",
   "metadata": {},
   "outputs": [
    {
     "data": {
      "text/plain": [
       "((60000, 41), (60000,))"
      ]
     },
     "execution_count": 8,
     "metadata": {},
     "output_type": "execute_result"
    }
   ],
   "source": [
    "X_train.shape, Y_train.shape"
   ]
  },
  {
   "cell_type": "raw",
   "id": "4097e04b",
   "metadata": {},
   "source": [
    "The train_test_split function of the sklearn. model_selection package in Python \n",
    "splits arrays or matrices into random subsets for train and test data, respectively."
   ]
  },
  {
   "cell_type": "markdown",
   "id": "79eb3527",
   "metadata": {},
   "source": [
    "# a. ML With Teacher"
   ]
  },
  {
   "cell_type": "markdown",
   "id": "09a40756",
   "metadata": {},
   "source": [
    "# Отбор признаков (feature selection)"
   ]
  },
  {
   "cell_type": "markdown",
   "id": "cab6514a",
   "metadata": {},
   "source": [
    "# WE SHOULD DO IT BEFORE MINMAX SCALER!"
   ]
  },
  {
   "cell_type": "code",
   "execution_count": 9,
   "id": "e652faa6",
   "metadata": {},
   "outputs": [],
   "source": [
    "from sklearn.feature_selection import SelectKBest,chi2,f_classif\n",
    "#специальные методики,оценивают, какие признаки хорошо влияют на зависимые переменные,какие плохо и т.д.(хи квадрат используем)\n",
    "#нужно передать количество признаков,которое мы хотим отобрать и критерий по которому будем отбирать(наш хи-квадрат)"
   ]
  },
  {
   "cell_type": "markdown",
   "id": "a25f809a",
   "metadata": {},
   "source": [
    "Selection using the chi function"
   ]
  },
  {
   "cell_type": "code",
   "execution_count": 10,
   "id": "76da5eec",
   "metadata": {},
   "outputs": [
    {
     "data": {
      "text/plain": [
       "SelectKBest(k=9)"
      ]
     },
     "execution_count": 10,
     "metadata": {},
     "output_type": "execute_result"
    }
   ],
   "source": [
    "#k - количество признаков\n",
    "Selector = SelectKBest(f_classif, k=9)\n",
    "Selector.fit(X, Y)"
   ]
  },
  {
   "cell_type": "code",
   "execution_count": 11,
   "id": "c63b14c7",
   "metadata": {},
   "outputs": [
    {
     "data": {
      "text/plain": [
       "array([False, False, False,  True, False, False,  True, False,  True,\n",
       "        True,  True,  True,  True, False,  True, False, False,  True,\n",
       "       False, False, False, False, False, False, False, False, False,\n",
       "       False, False, False, False, False, False, False, False, False,\n",
       "       False, False, False, False, False])"
      ]
     },
     "execution_count": 11,
     "metadata": {},
     "output_type": "execute_result"
    }
   ],
   "source": [
    "#покажет признаки,которые он выбирает,что подходит нам и что нет,проверит степень влияния\n",
    "Selector.get_support()\n"
   ]
  },
  {
   "cell_type": "code",
   "execution_count": 12,
   "id": "9a7549fb",
   "metadata": {},
   "outputs": [
    {
     "data": {
      "text/plain": [
       "['MonthlyInhandSalary',\n",
       " 'InterestRate',\n",
       " 'Delayfromduedate',\n",
       " 'NumofDelayedPayment',\n",
       " 'NumCreditInquiries',\n",
       " 'CreditMix',\n",
       " 'OutstandingDebt',\n",
       " 'PaymentofMinAmount',\n",
       " 'CreditHistoryYears']"
      ]
     },
     "execution_count": 12,
     "metadata": {},
     "output_type": "execute_result"
    }
   ],
   "source": [
    "X.columns[Selector.get_support()].tolist()"
   ]
  },
  {
   "cell_type": "code",
   "execution_count": 13,
   "id": "fb4e1621",
   "metadata": {},
   "outputs": [],
   "source": [
    "drop_cols = X.columns[~Selector.get_support()].tolist()"
   ]
  },
  {
   "cell_type": "code",
   "execution_count": 14,
   "id": "8dc19c0b",
   "metadata": {},
   "outputs": [
    {
     "data": {
      "text/plain": [
       "['Month',\n",
       " 'Age',\n",
       " 'AnnualIncome',\n",
       " 'NumBankAccounts',\n",
       " 'NumCreditCard',\n",
       " 'NumofLoan',\n",
       " 'CreditUtilizationRatio',\n",
       " 'TotalEMIpermonth',\n",
       " 'MonthlyBalance',\n",
       " 'Occupation_Accountant',\n",
       " 'Occupation_Architect',\n",
       " 'Occupation_Developer',\n",
       " 'Occupation_Doctor',\n",
       " 'Occupation_Engineer',\n",
       " 'Occupation_Entrepreneur',\n",
       " 'Occupation_Journalist',\n",
       " 'Occupation_Lawyer',\n",
       " 'Occupation_Manager',\n",
       " 'Occupation_Mechanic',\n",
       " 'Occupation_MediaManager',\n",
       " 'Occupation_Musician',\n",
       " 'Occupation_NoOccupation',\n",
       " 'Occupation_Scientist',\n",
       " 'Occupation_Teacher',\n",
       " 'Occupation_Writer',\n",
       " '1',\n",
       " '2',\n",
       " '3',\n",
       " '4',\n",
       " '5',\n",
       " '6',\n",
       " '7']"
      ]
     },
     "execution_count": 14,
     "metadata": {},
     "output_type": "execute_result"
    }
   ],
   "source": [
    "drop_cols"
   ]
  },
  {
   "cell_type": "code",
   "execution_count": 15,
   "id": "64c25893",
   "metadata": {},
   "outputs": [],
   "source": [
    "X_new = X.drop(drop_cols, axis = 1)"
   ]
  },
  {
   "cell_type": "code",
   "execution_count": 16,
   "id": "2214cb96",
   "metadata": {},
   "outputs": [
    {
     "data": {
      "text/html": [
       "<div>\n",
       "<style scoped>\n",
       "    .dataframe tbody tr th:only-of-type {\n",
       "        vertical-align: middle;\n",
       "    }\n",
       "\n",
       "    .dataframe tbody tr th {\n",
       "        vertical-align: top;\n",
       "    }\n",
       "\n",
       "    .dataframe thead th {\n",
       "        text-align: right;\n",
       "    }\n",
       "</style>\n",
       "<table border=\"1\" class=\"dataframe\">\n",
       "  <thead>\n",
       "    <tr style=\"text-align: right;\">\n",
       "      <th></th>\n",
       "      <th>MonthlyInhandSalary</th>\n",
       "      <th>InterestRate</th>\n",
       "      <th>Delayfromduedate</th>\n",
       "      <th>NumofDelayedPayment</th>\n",
       "      <th>NumCreditInquiries</th>\n",
       "      <th>CreditMix</th>\n",
       "      <th>OutstandingDebt</th>\n",
       "      <th>PaymentofMinAmount</th>\n",
       "      <th>CreditHistoryYears</th>\n",
       "    </tr>\n",
       "  </thead>\n",
       "  <tbody>\n",
       "    <tr>\n",
       "      <th>0</th>\n",
       "      <td>1824.843333</td>\n",
       "      <td>3</td>\n",
       "      <td>3</td>\n",
       "      <td>7.000000</td>\n",
       "      <td>4.0</td>\n",
       "      <td>3</td>\n",
       "      <td>809.98</td>\n",
       "      <td>1</td>\n",
       "      <td>22.000000</td>\n",
       "    </tr>\n",
       "    <tr>\n",
       "      <th>1</th>\n",
       "      <td>4194.170850</td>\n",
       "      <td>3</td>\n",
       "      <td>-1</td>\n",
       "      <td>13.220499</td>\n",
       "      <td>4.0</td>\n",
       "      <td>1</td>\n",
       "      <td>809.98</td>\n",
       "      <td>1</td>\n",
       "      <td>17.966516</td>\n",
       "    </tr>\n",
       "    <tr>\n",
       "      <th>2</th>\n",
       "      <td>4194.170850</td>\n",
       "      <td>3</td>\n",
       "      <td>3</td>\n",
       "      <td>7.000000</td>\n",
       "      <td>4.0</td>\n",
       "      <td>1</td>\n",
       "      <td>809.98</td>\n",
       "      <td>1</td>\n",
       "      <td>22.000000</td>\n",
       "    </tr>\n",
       "    <tr>\n",
       "      <th>3</th>\n",
       "      <td>4194.170850</td>\n",
       "      <td>3</td>\n",
       "      <td>5</td>\n",
       "      <td>4.000000</td>\n",
       "      <td>4.0</td>\n",
       "      <td>1</td>\n",
       "      <td>809.98</td>\n",
       "      <td>1</td>\n",
       "      <td>22.000000</td>\n",
       "    </tr>\n",
       "    <tr>\n",
       "      <th>4</th>\n",
       "      <td>1824.843333</td>\n",
       "      <td>3</td>\n",
       "      <td>6</td>\n",
       "      <td>13.220499</td>\n",
       "      <td>4.0</td>\n",
       "      <td>1</td>\n",
       "      <td>809.98</td>\n",
       "      <td>1</td>\n",
       "      <td>22.000000</td>\n",
       "    </tr>\n",
       "    <tr>\n",
       "      <th>...</th>\n",
       "      <td>...</td>\n",
       "      <td>...</td>\n",
       "      <td>...</td>\n",
       "      <td>...</td>\n",
       "      <td>...</td>\n",
       "      <td>...</td>\n",
       "      <td>...</td>\n",
       "      <td>...</td>\n",
       "      <td>...</td>\n",
       "    </tr>\n",
       "    <tr>\n",
       "      <th>99995</th>\n",
       "      <td>3359.415833</td>\n",
       "      <td>7</td>\n",
       "      <td>23</td>\n",
       "      <td>7.000000</td>\n",
       "      <td>3.0</td>\n",
       "      <td>3</td>\n",
       "      <td>502.38</td>\n",
       "      <td>1</td>\n",
       "      <td>31.000000</td>\n",
       "    </tr>\n",
       "    <tr>\n",
       "      <th>99996</th>\n",
       "      <td>3359.415833</td>\n",
       "      <td>7</td>\n",
       "      <td>18</td>\n",
       "      <td>7.000000</td>\n",
       "      <td>3.0</td>\n",
       "      <td>3</td>\n",
       "      <td>502.38</td>\n",
       "      <td>1</td>\n",
       "      <td>31.000000</td>\n",
       "    </tr>\n",
       "    <tr>\n",
       "      <th>99997</th>\n",
       "      <td>3359.415833</td>\n",
       "      <td>0</td>\n",
       "      <td>27</td>\n",
       "      <td>6.000000</td>\n",
       "      <td>3.0</td>\n",
       "      <td>1</td>\n",
       "      <td>502.38</td>\n",
       "      <td>1</td>\n",
       "      <td>31.000000</td>\n",
       "    </tr>\n",
       "    <tr>\n",
       "      <th>99998</th>\n",
       "      <td>3359.415833</td>\n",
       "      <td>7</td>\n",
       "      <td>20</td>\n",
       "      <td>13.220499</td>\n",
       "      <td>3.0</td>\n",
       "      <td>1</td>\n",
       "      <td>502.38</td>\n",
       "      <td>1</td>\n",
       "      <td>31.000000</td>\n",
       "    </tr>\n",
       "    <tr>\n",
       "      <th>99999</th>\n",
       "      <td>3359.415833</td>\n",
       "      <td>7</td>\n",
       "      <td>18</td>\n",
       "      <td>6.000000</td>\n",
       "      <td>3.0</td>\n",
       "      <td>1</td>\n",
       "      <td>502.38</td>\n",
       "      <td>1</td>\n",
       "      <td>31.000000</td>\n",
       "    </tr>\n",
       "  </tbody>\n",
       "</table>\n",
       "<p>100000 rows × 9 columns</p>\n",
       "</div>"
      ],
      "text/plain": [
       "       MonthlyInhandSalary  InterestRate  Delayfromduedate  \\\n",
       "0              1824.843333             3                 3   \n",
       "1              4194.170850             3                -1   \n",
       "2              4194.170850             3                 3   \n",
       "3              4194.170850             3                 5   \n",
       "4              1824.843333             3                 6   \n",
       "...                    ...           ...               ...   \n",
       "99995          3359.415833             7                23   \n",
       "99996          3359.415833             7                18   \n",
       "99997          3359.415833             0                27   \n",
       "99998          3359.415833             7                20   \n",
       "99999          3359.415833             7                18   \n",
       "\n",
       "       NumofDelayedPayment  NumCreditInquiries  CreditMix  OutstandingDebt  \\\n",
       "0                 7.000000                 4.0          3           809.98   \n",
       "1                13.220499                 4.0          1           809.98   \n",
       "2                 7.000000                 4.0          1           809.98   \n",
       "3                 4.000000                 4.0          1           809.98   \n",
       "4                13.220499                 4.0          1           809.98   \n",
       "...                    ...                 ...        ...              ...   \n",
       "99995             7.000000                 3.0          3           502.38   \n",
       "99996             7.000000                 3.0          3           502.38   \n",
       "99997             6.000000                 3.0          1           502.38   \n",
       "99998            13.220499                 3.0          1           502.38   \n",
       "99999             6.000000                 3.0          1           502.38   \n",
       "\n",
       "       PaymentofMinAmount  CreditHistoryYears  \n",
       "0                       1           22.000000  \n",
       "1                       1           17.966516  \n",
       "2                       1           22.000000  \n",
       "3                       1           22.000000  \n",
       "4                       1           22.000000  \n",
       "...                   ...                 ...  \n",
       "99995                   1           31.000000  \n",
       "99996                   1           31.000000  \n",
       "99997                   1           31.000000  \n",
       "99998                   1           31.000000  \n",
       "99999                   1           31.000000  \n",
       "\n",
       "[100000 rows x 9 columns]"
      ]
     },
     "execution_count": 16,
     "metadata": {},
     "output_type": "execute_result"
    }
   ],
   "source": [
    "X_new"
   ]
  },
  {
   "cell_type": "code",
   "execution_count": 17,
   "id": "9f95a002",
   "metadata": {},
   "outputs": [],
   "source": [
    "from sklearn.model_selection import train_test_split\n",
    "\n",
    "X_train, X_test, Y_train,  Y_test = train_test_split(X_new, Y, test_size = 0.5, random_state = 15)"
   ]
  },
  {
   "cell_type": "code",
   "execution_count": 18,
   "id": "dfe64afa",
   "metadata": {},
   "outputs": [
    {
     "data": {
      "text/plain": [
       "(50000, 9)"
      ]
     },
     "execution_count": 18,
     "metadata": {},
     "output_type": "execute_result"
    }
   ],
   "source": [
    "X_train.shape"
   ]
  },
  {
   "cell_type": "markdown",
   "id": "0693ecdb",
   "metadata": {},
   "source": [
    "# scaling and standardization of values"
   ]
  },
  {
   "cell_type": "markdown",
   "id": "bb606aab",
   "metadata": {},
   "source": [
    "Standardize features by removing the mean and scaling to unit variance.\n",
    "Standardization of a dataset is a common requirement for many machine learning estimators: \n",
    "they might behave badly if the individual features do not more or less look like standard normally distributed data.\n",
    "\n",
    "Method fit_transform:Fits transformer to X and y with optional parameters fit_params and returns a transformed version of X."
   ]
  },
  {
   "cell_type": "code",
   "execution_count": 19,
   "id": "be977a97",
   "metadata": {},
   "outputs": [],
   "source": [
    "#from sklearn.preprocessing import StandardScaler\n",
    "#mms = StandardScaler()\n",
    "#X = mms.fit_transform(X)\n",
    "\n",
    "#from sklearn.preprocessing import MinMaxScaler\n",
    "#mms = MinMaxScaler()\n",
    "#X = mms.fit_transform(X_train)"
   ]
  },
  {
   "cell_type": "markdown",
   "id": "e996870b",
   "metadata": {},
   "source": [
    "# Адаптивный бустинг (Adaptive boosting)"
   ]
  },
  {
   "cell_type": "raw",
   "id": "585c25e7",
   "metadata": {},
   "source": [
    "AdaBoost can be used to boost the performance of any machine learning algorithm. \n",
    "It is best used with weak learners. \n",
    "These are models that achieve accuracy just above random chance on a classification problem. \n",
    "\n",
    "\n",
    "method fit : Build a boosted classifier from the training set (X_train, Y_train).\n",
    "method predict: Predict classes for X.\n",
    "\n",
    "confusion matrix:\n",
    "It is a table that is used in classification problems to assess where errors in the model were made. The rows represent the actual classes the outcomes should have been. While the columns represent the predictions we have made.\n",
    "\n",
    "\n",
    "precision_score:\n",
    "The precision is the ratio tp / (tp + fp) where tp is the number of true positives and fp the number of false positives. The precision is intuitively the ability of the classifier not to label as positive a sample that is negative.\n",
    "The best value is 1 and the worst value is 0.\n",
    "\n",
    "recall_score:\n",
    "The recall is the ratio tp / (tp + fn) where tp is the number of true positives and fn the number of false negatives. The recall is intuitively the ability of the classifier to find all the positive samples.\n",
    "The best value is 1 and the worst value is 0.\n",
    "\n",
    "f1_score:\n",
    "The F1 score can be interpreted as a harmonic mean of the precision and recall, where an F1 score reaches its best value at 1 and worst score at 0. The relative contribution of precision and recall to the F1 score are equal."
   ]
  },
  {
   "cell_type": "code",
   "execution_count": 20,
   "id": "a8b90834",
   "metadata": {},
   "outputs": [],
   "source": [
    "from sklearn.model_selection import GridSearchCV\n",
    "from sklearn.ensemble import AdaBoostClassifier\n",
    "from sklearn import tree\n",
    "#clf = tree.DecisionTreeClassifier()\n",
    "from sklearn.tree import DecisionTreeClassifier  ### Замена класса\n",
    "from sklearn.ensemble import RandomForestClassifier"
   ]
  },
  {
   "cell_type": "code",
   "execution_count": 21,
   "id": "43bab86d",
   "metadata": {},
   "outputs": [],
   "source": [
    "Ada_clf = AdaBoostClassifier()"
   ]
  },
  {
   "cell_type": "code",
   "execution_count": 22,
   "id": "459fa59b",
   "metadata": {},
   "outputs": [],
   "source": [
    "#Ada_clf = AdaBoostClassifier(base_estimator = tree.DecisionTreeClassifier(max_depth = 7))\n",
    "paramgrid = [{'base_estimator': [DecisionTreeClassifier(max_depth = 5)], \n",
    "              'learning_rate' : [0.1,0.5,1], 'n_estimators': [10,100,200]}, \n",
    "             \n",
    "             \n",
    "             {'base_estimator': [RandomForestClassifier(max_depth = 2, n_estimators = 10)], \n",
    "              'learning_rate' : [0.1,1],\n",
    "              'n_estimators': [10]}\n",
    "            ]"
   ]
  },
  {
   "cell_type": "code",
   "execution_count": 23,
   "id": "12accdcf",
   "metadata": {},
   "outputs": [],
   "source": [
    "GS_ada = GridSearchCV(Ada_clf, param_grid = paramgrid, cv = 3,scoring = 'f1_macro')"
   ]
  },
  {
   "cell_type": "code",
   "execution_count": 24,
   "id": "36ae9fd8",
   "metadata": {},
   "outputs": [
    {
     "data": {
      "text/plain": [
       "GridSearchCV(cv=3, estimator=AdaBoostClassifier(),\n",
       "             param_grid=[{'base_estimator': [DecisionTreeClassifier(max_depth=5)],\n",
       "                          'learning_rate': [0.1, 0.5, 1],\n",
       "                          'n_estimators': [10, 100, 200]},\n",
       "                         {'base_estimator': [RandomForestClassifier(max_depth=2,\n",
       "                                                                    n_estimators=10)],\n",
       "                          'learning_rate': [0.1, 1], 'n_estimators': [10]}],\n",
       "             scoring='f1_macro')"
      ]
     },
     "execution_count": 24,
     "metadata": {},
     "output_type": "execute_result"
    }
   ],
   "source": [
    "GS_ada.fit(X_train, Y_train)"
   ]
  },
  {
   "cell_type": "code",
   "execution_count": 26,
   "id": "acc4abac",
   "metadata": {},
   "outputs": [
    {
     "data": {
      "text/plain": [
       "{'base_estimator': DecisionTreeClassifier(max_depth=5),\n",
       " 'learning_rate': 0.1,\n",
       " 'n_estimators': 100}"
      ]
     },
     "execution_count": 26,
     "metadata": {},
     "output_type": "execute_result"
    }
   ],
   "source": [
    "GS_ada.best_params_"
   ]
  },
  {
   "cell_type": "code",
   "execution_count": 30,
   "id": "fc48de4d",
   "metadata": {},
   "outputs": [
    {
     "data": {
      "text/plain": [
       "AdaBoostClassifier(base_estimator=DecisionTreeClassifier(max_depth=5),\n",
       "                   learning_rate=0.1, n_estimators=100)"
      ]
     },
     "execution_count": 30,
     "metadata": {},
     "output_type": "execute_result"
    }
   ],
   "source": [
    "ada = AdaBoostClassifier(base_estimator=DecisionTreeClassifier(max_depth=5),learning_rate = 0.1, n_estimators = 100)\n",
    "ada.fit(X_train,Y_train)"
   ]
  },
  {
   "cell_type": "code",
   "execution_count": 32,
   "id": "b41a56cc",
   "metadata": {},
   "outputs": [
    {
     "data": {
      "text/plain": [
       "0.6622632595859613"
      ]
     },
     "execution_count": 32,
     "metadata": {},
     "output_type": "execute_result"
    }
   ],
   "source": [
    "from sklearn.metrics import f1_score\n",
    "pred = ada.predict(X_test)\n",
    "f1_score(Y_test,pred,average='macro')"
   ]
  },
  {
   "cell_type": "code",
   "execution_count": 33,
   "id": "257e270d",
   "metadata": {},
   "outputs": [],
   "source": [
    "from sklearn.model_selection import cross_val_score, cross_val_predict"
   ]
  },
  {
   "cell_type": "code",
   "execution_count": 35,
   "id": "50bd20af",
   "metadata": {},
   "outputs": [],
   "source": [
    "cs = cross_val_score(GS_ada,X_train, Y_train, cv= 5, scoring = 'f1_macro')"
   ]
  },
  {
   "cell_type": "code",
   "execution_count": 36,
   "id": "38c5657e",
   "metadata": {},
   "outputs": [
    {
     "data": {
      "text/plain": [
       "array([0.6585128 , 0.66145375, 0.66762392, 0.66964992, 0.66198824])"
      ]
     },
     "execution_count": 36,
     "metadata": {},
     "output_type": "execute_result"
    }
   ],
   "source": [
    "cs"
   ]
  },
  {
   "cell_type": "code",
   "execution_count": null,
   "id": "674217a2",
   "metadata": {},
   "outputs": [],
   "source": []
  },
  {
   "cell_type": "code",
   "execution_count": null,
   "id": "068ba9cd",
   "metadata": {},
   "outputs": [],
   "source": []
  },
  {
   "cell_type": "code",
   "execution_count": null,
   "id": "5be3cb2f",
   "metadata": {},
   "outputs": [],
   "source": []
  },
  {
   "cell_type": "code",
   "execution_count": 37,
   "id": "6e0dadf1",
   "metadata": {},
   "outputs": [
    {
     "data": {
      "text/plain": [
       "(0.68216, 0.7005)"
      ]
     },
     "execution_count": 37,
     "metadata": {},
     "output_type": "execute_result"
    }
   ],
   "source": [
    "ada.score(X_test,Y_test), ada.score(X_train, Y_train)"
   ]
  },
  {
   "cell_type": "code",
   "execution_count": 38,
   "id": "26bb38b4",
   "metadata": {},
   "outputs": [],
   "source": [
    "pred = ada.predict(X_test)"
   ]
  },
  {
   "cell_type": "code",
   "execution_count": 39,
   "id": "de26b866",
   "metadata": {},
   "outputs": [
    {
     "data": {
      "text/plain": [
       "array([0, 0, 2, ..., 0, 0, 0], dtype=int64)"
      ]
     },
     "execution_count": 39,
     "metadata": {},
     "output_type": "execute_result"
    }
   ],
   "source": [
    "pred"
   ]
  },
  {
   "cell_type": "code",
   "execution_count": 40,
   "id": "89de1c18",
   "metadata": {},
   "outputs": [
    {
     "data": {
      "text/plain": [
       "array([[19395,  4311,  2886],\n",
       "       [ 2117,  6545,   174],\n",
       "       [ 5167,  1237,  8168]], dtype=int64)"
      ]
     },
     "execution_count": 40,
     "metadata": {},
     "output_type": "execute_result"
    }
   ],
   "source": [
    "confusion_matrix(Y_test,pred)\n"
   ]
  },
  {
   "cell_type": "code",
   "execution_count": 41,
   "id": "89d7ec72",
   "metadata": {},
   "outputs": [
    {
     "data": {
      "text/plain": [
       "(0.6652218382668756, 0.6768671713344226, 0.6622632595859613)"
      ]
     },
     "execution_count": 41,
     "metadata": {},
     "output_type": "execute_result"
    }
   ],
   "source": [
    "precision_score(Y_test,pred, average='macro'), recall_score(Y_test,pred, average='macro'), f1_score(Y_test,pred, average='macro') "
   ]
  },
  {
   "cell_type": "code",
   "execution_count": null,
   "id": "e2113c4f",
   "metadata": {},
   "outputs": [],
   "source": [
    "import pickle\n",
    "with open('data.pickle', 'wb') as f:\n",
    "     pickle.dump(ada, f)"
   ]
  },
  {
   "cell_type": "code",
   "execution_count": null,
   "id": "00f8534c",
   "metadata": {},
   "outputs": [],
   "source": [
    "with open('data.pickle', 'rb') as f:\n",
    "    new_model = pickle.load(f)"
   ]
  }
 ],
 "metadata": {
  "kernelspec": {
   "display_name": "Python 3 (ipykernel)",
   "language": "python",
   "name": "python3"
  },
  "language_info": {
   "codemirror_mode": {
    "name": "ipython",
    "version": 3
   },
   "file_extension": ".py",
   "mimetype": "text/x-python",
   "name": "python",
   "nbconvert_exporter": "python",
   "pygments_lexer": "ipython3",
   "version": "3.9.7"
  }
 },
 "nbformat": 4,
 "nbformat_minor": 5
}
